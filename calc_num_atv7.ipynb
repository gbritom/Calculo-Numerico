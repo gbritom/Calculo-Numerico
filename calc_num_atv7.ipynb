{
 "cells": [
  {
   "cell_type": "markdown",
   "metadata": {},
   "source": [
    "# Lista de Exercícios 07 - Integração Numérica\n",
    "Autor: Gabriel B. Melandes\n",
    "\n",
    "Curso: Ciência da Computação\n",
    "\n",
    "\n",
    "## Propósito\n",
    "Esta atividade é referente a atividade 07 da disciplina de Cálculo Numérico."
   ]
  },
  {
   "cell_type": "markdown",
   "metadata": {},
   "source": [
    "## Imports"
   ]
  },
  {
   "cell_type": "code",
   "execution_count": 1,
   "metadata": {},
   "outputs": [],
   "source": [
    "import numpy as np\n",
    "import scipy.integrate as spi\n",
    "from scipy.interpolate import lagrange\n",
    "from numpy.polynomial.polynomial import Polynomial"
   ]
  },
  {
   "cell_type": "markdown",
   "metadata": {},
   "source": [
    "<h3>Funções</h3>"
   ]
  },
  {
   "cell_type": "code",
   "execution_count": 2,
   "metadata": {},
   "outputs": [],
   "source": [
    "def int_trapezios(F, a, b, n):\n",
    "    h = float(b-a)/n\n",
    "    integral = 0.5*F(a) + 0.5*F(b)\n",
    "    for i in range(1, n):\n",
    "        integral += F(a + i*h)\n",
    "    return integral*h\n",
    "\n",
    "\n",
    "def erro_trapezios(F_2nd_deri, a, b, n):\n",
    "    error = -(((b - a)**3)/(12*n**2))*F_2nd_deri(1)\n",
    "    #print('Erro da regra dos trapézios: {:.3e}'.format(error))\n",
    "    return error"
   ]
  },
  {
   "cell_type": "code",
   "execution_count": 3,
   "metadata": {},
   "outputs": [],
   "source": [
    "def riemann_sum(f, a, b, N, method='midpoint'):\n",
    "    # https://www.math.ubc.ca/~pwalls/math-python/integration/riemann-sums/\n",
    "    dx = (b - a)/N\n",
    "    x = np.linspace(a, b, N+1)\n",
    "\n",
    "    if method == 'left':\n",
    "        x_left = x[:-1]\n",
    "        return np.sum(f(x_left)*dx)\n",
    "    elif method == 'right':\n",
    "        x_right = x[1:]\n",
    "        return np.sum(f(x_right)*dx)\n",
    "    elif method == 'midpoint':\n",
    "        x_mid = (x[:-1] + x[1:])/2\n",
    "        return np.sum(f(x_mid)*dx)\n",
    "    else:\n",
    "        raise ValueError(\"Method must be 'left', 'right' or 'midpoint'.\")"
   ]
  },
  {
   "cell_type": "markdown",
   "metadata": {},
   "source": [
    "1. [UFRGS] Calcule numericamente as seguintes integrais:\n",
    "\n",
    "$$\n",
    "\\int_{0}^{1} e^{-x}dx \\tag{1}$$\n",
    "$$\n",
    "\\int_{0}^{1} x^2dx \\tag{2}$$\n",
    "$$\n",
    "\\int_{0}^{1} x^3dx \\tag{3}$$\n",
    "$$\n",
    "\\int_{0}^{1} xe^{-x^2}dx \\tag{4}$$\n",
    "$$\n",
    "\\int_{0}^{1}\\frac{1}{x^2 + 1}dx \\tag{5}$$\n",
    "$$\n",
    "\\int_{0}^{1}\\frac{x}{x^2 + 1}dx \\tag{6}\n",
    "$$\n",
    "utilizando a Regra dos Trapézios.\n",
    "\n",
    "(a) Com a estimativa do erro, calcule o erro máximo que pode ser cometido ao realizar\n",
    "a aproximação com a Regra dos Trapézios para cada um dos itens anteriores."
   ]
  },
  {
   "cell_type": "code",
   "execution_count": 4,
   "metadata": {},
   "outputs": [],
   "source": [
    "def F1(x):\n",
    "    return np.exp(-x)\n",
    "\n",
    "\n",
    "def F2(x):\n",
    "    return x**2\n",
    "\n",
    "\n",
    "def F3(x):\n",
    "    return x**3\n",
    "\n",
    "\n",
    "def F4(x):\n",
    "    return x*np.exp(-x**2)\n",
    "\n",
    "\n",
    "def F5(x):  # = arctan()\n",
    "    return 1/((x**2)+1)\n",
    "\n",
    "\n",
    "def F6(x):  # = 1/2*ln(x^2+1)\n",
    "    return x/((x**2)+1)"
   ]
  },
  {
   "cell_type": "code",
   "execution_count": 5,
   "metadata": {},
   "outputs": [],
   "source": [
    "# segunda derivada\n",
    "def F11(x):\n",
    "    return np.exp(-x)\n",
    "\n",
    "\n",
    "def F12(x):\n",
    "    return 0\n",
    "\n",
    "\n",
    "def F13(x):\n",
    "    return 6*x\n",
    "\n",
    "\n",
    "def F14(x):\n",
    "    return (4*x**3-6*x)*np.exp(-x**2)\n",
    "\n",
    "\n",
    "def F15(x):\n",
    "    return 2*(3*x**2-1)/((x**2)+1)**3\n",
    "\n",
    "\n",
    "def F16(x):\n",
    "    return 2*x*(x**2-3)/((x**2)+1)**3"
   ]
  },
  {
   "cell_type": "code",
   "execution_count": 6,
   "metadata": {},
   "outputs": [
    {
     "name": "stdout",
     "output_type": "stream",
     "text": [
      "Área F1(x)= 0.63213\n"
     ]
    }
   ],
   "source": [
    "print('Área F1(x)= {:.5f}'.format(int_trapezios(F1, 0, 1, 100)))"
   ]
  },
  {
   "cell_type": "markdown",
   "metadata": {},
   "source": [
    "Como algumas funções acimas possuem integrais definidas, podemos calcular o erro comparado o $| \\text{valor de integração definido} - \\text{valor da integração trapezios}  |$\n",
    "\n",
    "Dois exemplos disso são as funções 5 e 6, com valores de $arctan(1)$ e $\\frac{ln(x^2+1)}{2}$, respectivamente."
   ]
  },
  {
   "cell_type": "code",
   "execution_count": 7,
   "metadata": {},
   "outputs": [
    {
     "name": "stdout",
     "output_type": "stream",
     "text": [
      "Área da Função 1: 0.63213.\n",
      "\tErro da regra dos trapézios: -7.664e-05\n",
      "Área da Função 2: 0.33335.\n",
      "\tErro da regra dos trapézios: -0.000e+00\n",
      "Área da Função 3: 0.25003.\n",
      "\tErro da regra dos trapézios: -1.250e-03\n",
      "Área da Função 4: 0.31605.\n",
      "\tErro da regra dos trapézios: 1.533e-04\n",
      "Área da Função 5: 0.78539.\n",
      "\tErro da regra dos trapézios: -1.042e-04\n",
      "\tComprando valor real com o encontrado: 4.166667e-06\n",
      "Área da Função 6: 0.34657.\n",
      "\tErro da regra dos trapézios: 1.042e-04\n",
      "\tComprando valor real com o encontrado: 8.333438e-06\n"
     ]
    }
   ],
   "source": [
    "# Questão 1\n",
    "print('Área da Função 1: {:.5f}.\\n\\tErro da regra dos trapézios: {:.3e}'.\n",
    "      format(int_trapezios(F1, 0, 1, 100), erro_trapezios(F11, 0, 1, 20)))\n",
    "# Questão 2\n",
    "print('Área da Função 2: {:.5f}.\\n\\tErro da regra dos trapézios: {:.3e}'.\n",
    "      format(int_trapezios(F2, 0, 1, 100), erro_trapezios(F12, 0, 1, 20)))\n",
    "# Questão 3\n",
    "print('Área da Função 3: {:.5f}.\\n\\tErro da regra dos trapézios: {:.3e}'.\n",
    "      format(int_trapezios(F3, 0, 1, 100), erro_trapezios(F13, 0, 1, 20)))\n",
    "# Questão 4\n",
    "print('Área da Função 4: {:.5f}.\\n\\tErro da regra dos trapézios: {:.3e}'.\n",
    "      format(int_trapezios(F4, 0, 1, 100), erro_trapezios(F14, 0, 1, 20)))\n",
    "# Questão 5\n",
    "print('Área da Função 5: {:.5f}.\\n\\tErro da regra dos trapézios: {:.3e}'.\n",
    "      format(int_trapezios(F5, 0, 1, 100), erro_trapezios(F15, 0, 1, 20)))\n",
    "print('\\tComprando valor real com o encontrado: {:e}'.format(abs(\n",
    "    int_trapezios(F5, 0, 1, 100)-np.arctan(1))))\n",
    "# Questão 6\n",
    "print('Área da Função 6: {:.5f}.\\n\\tErro da regra dos trapézios: {:.3e}'.\n",
    "      format(int_trapezios(F6, 0, 1, 100), erro_trapezios(F16, 0, 1, 20)))\n",
    "\n",
    "\n",
    "def F6_1(x):\n",
    "    return 1/2*np.log(x**2+1)\n",
    "\n",
    "\n",
    "print('\\tComprando valor real com o encontrado: {:e}'.format(abs(\n",
    "    int_trapezios(F6, 0, 1, 100)-F6_1(1))))"
   ]
  },
  {
   "cell_type": "markdown",
   "metadata": {},
   "source": [
    "<hr>\n",
    "2. Considere a seguinte integral:\n",
    "$$ I = \\int_{0}^{2}3x^2 - 3 dx.\\tag{7} $$\n",
    "\n",
    "(a) Calcule o valor da integral acima.\n",
    "\n",
    "\n",
    "(b) Seja $S_n$ a soma de Riemann superior no intervalo $[0, 2]$. Através de um algoritmo\n",
    "ou do Geogebra, determine a quantidade mínima de retângulos $n$ tais que $|I -\n",
    "S_n| < 10^{-3}.$\n",
    "\n",
    "\n",
    "(c) Seja $TR_n$ a aproximação via Regra dos Trapézios Repetida no intervalo $[0, 2]$.\n",
    "Através de um algoritmo ou do Geogebra, determine a quantidade mínima de\n",
    "trapézios n tais que $|I - S_n| < 10^{-3}$.\n",
    "\n",
    "\n",
    "(d) Qual dos dois utilizou menos intervalos?"
   ]
  },
  {
   "cell_type": "code",
   "execution_count": 8,
   "metadata": {},
   "outputs": [],
   "source": [
    "def F(x):\n",
    "    return 3*x**2-3"
   ]
  },
  {
   "cell_type": "markdown",
   "metadata": {},
   "source": [
    "item A)\n",
    "\\begin{align}\\label{eq:}\n",
    "I = \\int_{0}^{2}3x^2 - 3 dx &= 3\\int_{0}^{2}x^2 dx - 3\\int_{0}^{2}1dx  \\\\\n",
    "&= \\left(x^3-3x)\\right|_{0}^{2} = 2\n",
    "\\end{align}"
   ]
  },
  {
   "cell_type": "code",
   "execution_count": 9,
   "metadata": {},
   "outputs": [
    {
     "name": "stdout",
     "output_type": "stream",
     "text": [
      "Quantidade de iterações mínimas para o erro ser 10^(-3) = 45\n"
     ]
    }
   ],
   "source": [
    "# item a\n",
    "for i in range(1, 1000):\n",
    "    if (abs(2 - riemann_sum(F, 0, 2, i)) < 1e-3):\n",
    "        print('Quantidade de iterações mínimas para o erro ser 10^(-3) = {}'.\n",
    "              format(i))\n",
    "        break"
   ]
  },
  {
   "cell_type": "code",
   "execution_count": 10,
   "metadata": {},
   "outputs": [
    {
     "name": "stdout",
     "output_type": "stream",
     "text": [
      "Mínimo para o erro ser 10^(-3) = 64\n"
     ]
    }
   ],
   "source": [
    "# item C\n",
    "for i in range(1, 1000):\n",
    "    if (abs(2 - int_trapezios(F, 0, 2, i)) < 1e-3):\n",
    "        print('Mínimo para o erro ser 10^(-3) = {}'.format(i))\n",
    "        break"
   ]
  },
  {
   "cell_type": "markdown",
   "metadata": {},
   "source": [
    "O método da <b>soma de Riemann</b> tomou menos iterações para chegar ao erro solicitado."
   ]
  },
  {
   "cell_type": "markdown",
   "metadata": {},
   "source": [
    "<hr>\n",
    "3. Considere a integral\n",
    "$$I = \\int_{0}^{2}x^4-6x^2 - 3.8 dx \\tag{9}$$\n",
    "\n",
    "(a) Divida o intervalo em cinco pontos equidistantes e crie um conjunto para interpolação da forma \n",
    "$\\left \\{x_i, f(x_i)\\right\\}_{i=0}^{4}$ e realize a interpolação destes pontos.\n",
    "\n",
    "(b) Calcule a integral do polinômio interpolador do item anterior no intervalo $[0, 2]$.\n",
    "\n",
    "(c) Faça a integração numérica com a Regra dos Trapézios Repetida utilizando os mesmos pontos.\n",
    "\n",
    "(d) Compare os dois valores."
   ]
  },
  {
   "cell_type": "code",
   "execution_count": 11,
   "metadata": {},
   "outputs": [],
   "source": [
    "def F(x):\n",
    "    return x**4-6*x**2 - 3.8"
   ]
  },
  {
   "cell_type": "code",
   "execution_count": 12,
   "metadata": {},
   "outputs": [
    {
     "data": {
      "text/plain": [
       "array([0., 1., 2., 3., 4.])"
      ]
     },
     "execution_count": 12,
     "metadata": {},
     "output_type": "execute_result"
    }
   ],
   "source": [
    "# item A\n",
    "# Utilizando o Scipy.interpolate e utilizando o método de lagrange\n",
    "# podemos resolver mais rapidamente:\n",
    "import matplotlib.pyplot as plt\n",
    "x = np.linspace(0,4,5)\n",
    "x"
   ]
  },
  {
   "cell_type": "code",
   "execution_count": 13,
   "metadata": {},
   "outputs": [
    {
     "data": {
      "text/plain": [
       "array([ 1. ,  0. , -6. ,  0. , -3.8])"
      ]
     },
     "execution_count": 13,
     "metadata": {},
     "output_type": "execute_result"
    }
   ],
   "source": [
    "poli = lagrange(x, F(x))\n",
    "Polynomial(poli).coef"
   ]
  },
  {
   "cell_type": "markdown",
   "metadata": {},
   "source": [
    "A interpolação é a própria Função."
   ]
  },
  {
   "cell_type": "markdown",
   "metadata": {},
   "source": [
    "item B)\n",
    "\n",
    "\\begin{align*}\n",
    "I = \\int_{0}^{2}x^4-6x^2 - 3,8 dx. &= \\int_{0}^{2}x^4dx - 2\\int_{0}^{2}xdx -\\int_{0}^{2}\\frac{19}{5}dx \n",
    "\\\\\\tag{10}\n",
    "&= \\left.\\left(\\frac{x^5}{5}-2x^3-\\frac{19x}{5}\\right)\\right|_{0}^{1} = -\\frac{86}{5}\n",
    "\\end{align*}\n",
    "\n"
   ]
  },
  {
   "cell_type": "code",
   "execution_count": 14,
   "metadata": {},
   "outputs": [
    {
     "data": {
      "text/plain": [
       "-17.2"
      ]
     },
     "execution_count": 14,
     "metadata": {},
     "output_type": "execute_result"
    }
   ],
   "source": [
    "-86/5"
   ]
  },
  {
   "cell_type": "code",
   "execution_count": 15,
   "metadata": {},
   "outputs": [
    {
     "data": {
      "text/plain": [
       "-17.193340000000003"
      ]
     },
     "execution_count": 15,
     "metadata": {},
     "output_type": "execute_result"
    }
   ],
   "source": [
    "# item C\n",
    "x = int_trapezios(F, 0, 2, 20)\n",
    "x"
   ]
  },
  {
   "cell_type": "code",
   "execution_count": 16,
   "metadata": {},
   "outputs": [
    {
     "data": {
      "text/plain": [
       "0.0066599999999965576"
      ]
     },
     "execution_count": 16,
     "metadata": {},
     "output_type": "execute_result"
    }
   ],
   "source": [
    "# item D\n",
    "abs(-86/5-x)"
   ]
  },
  {
   "cell_type": "markdown",
   "metadata": {},
   "source": [
    "Os valores são bem próximos, nota-se que o método é bem eficaz."
   ]
  }
 ],
 "metadata": {
  "kernelspec": {
   "display_name": "Python 3",
   "language": "python",
   "name": "python3"
  },
  "language_info": {
   "codemirror_mode": {
    "name": "ipython",
    "version": 3
   },
   "file_extension": ".py",
   "mimetype": "text/x-python",
   "name": "python",
   "nbconvert_exporter": "python",
   "pygments_lexer": "ipython3",
   "version": "3.8.5"
  },
  "latex_envs": {
   "LaTeX_envs_menu_present": true,
   "autoclose": false,
   "autocomplete": true,
   "bibliofile": "biblio.bib",
   "cite_by": "apalike",
   "current_citInitial": 1,
   "eqLabelWithNumbers": true,
   "eqNumInitial": 1,
   "hotkeys": {
    "equation": "Ctrl-E",
    "itemize": "Ctrl-I"
   },
   "labels_anchors": false,
   "latex_user_defs": false,
   "report_style_numbering": false,
   "user_envs_cfg": false
  }
 },
 "nbformat": 4,
 "nbformat_minor": 4
}
