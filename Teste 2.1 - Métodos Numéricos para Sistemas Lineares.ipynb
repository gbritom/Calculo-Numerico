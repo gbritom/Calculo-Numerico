{
 "cells": [
  {
   "cell_type": "markdown",
   "metadata": {},
   "source": [
    "<h3>Exercícios</h3><hr><b>1.</b> <br><p align=\"justify\"> Considere o sistema de equações lineares: \n",
    "\n",
    "$$\n",
    "\\begin{bmatrix}\n",
    " 6&  21& 3\\\\ \n",
    " 4& 42& 3\\\\ \n",
    " 2&  21& 3\n",
    "\\end{bmatrix}* \\begin{bmatrix}\n",
    "x\\\\\n",
    "y\\\\\n",
    "z\n",
    "\\end{bmatrix}\n",
    "    =\n",
    "\\begin{bmatrix}\n",
    "186\\\\\n",
    "173\\\\\n",
    "118\n",
    "\\end{bmatrix} $$"
   ]
  },
  {
   "cell_type": "markdown",
   "metadata": {},
   "source": [
    "<p align=\"justify\">(a) Determine a solucão deste sistema através de algum Método Direto</p>"
   ]
  },
  {
   "cell_type": "markdown",
   "metadata": {},
   "source": [
    "Gauss-Jordan:\n",
    "$\\begin{bmatrix}\n",
    " 6&  21& 3 & |186\\\\ \n",
    " 4& 42& 3 &|173\\\\ \n",
    " 2&  21& 3 &|118\n",
    "\\end{bmatrix}$ L1 = L1/6 $\\rightarrow$\n",
    "$\\begin{bmatrix}\n",
    " 1&  7/2& 1/2 &|31\\\\ \n",
    " 4& 42& 3 & |173\\\\ \n",
    " 2&  21& 3 &|118\n",
    "\\end{bmatrix}$ L2 = L2 - L1 $\\rightarrow$$\\begin{bmatrix}\n",
    " 1&  7/2& 1/2 & |31\\\\\n",
    " 0& 28& 1&|49\\\\ \n",
    " 2&  21& 3 &|118\n",
    "\\end{bmatrix}$  L3 = L3-2L1 $\\rightarrow$ $\\begin{bmatrix}\n",
    " 1&  7/2& 1/2 & |31\\\\\n",
    " 0& 28& 1&|49\\\\ \n",
    " 0&  14& 2 &|56\n",
    "\\end{bmatrix}$ L2= L2/28 $\\rightarrow$  $\\begin{bmatrix}\n",
    " 1&  7/2& 1/2 & |31\\\\\n",
    " 0& 1& 1/28&|7/4\\\\ \n",
    " 0&  14& 2 &|56\n",
    "\\end{bmatrix}$L3 = L3 -14L2 $\\rightarrow$ $\\begin{bmatrix}\n",
    " 1&  7/2& 1/2 & |31\\\\\n",
    " 0& 1& 1/28&|7/4\\\\ \n",
    " 0&  0& 3/2 &|63/2 \\end{bmatrix}$ L3=L3/(3/2) $\\rightarrow$ $\\begin{bmatrix}\n",
    " 1&  7/2& 1/2 & |31\\\\\n",
    " 0& 1& 1/28&|7/4\\\\ \n",
    " 0&  0& 1 &|21 \\end{bmatrix}$ L2 = L2 -(1/28)L2 $\\rightarrow$  $\\begin{bmatrix}\n",
    " 1&  7/2& 1/2 & |31\\\\\n",
    " 0& 1& 0 &|1\\\\ \n",
    " 0&  0& 1 &|21 \\end{bmatrix}$ L1 = L1 -(1/2)L1 $\\rightarrow$ $\\begin{bmatrix}\n",
    " 1&  7/2& 0 & |41/2\\\\\n",
    " 0& 1& 0 &|1\\\\ \n",
    " 0&  0& 1 &|21 \\end{bmatrix}$ L1 = L1 - (7/2)L2 $\\rightarrow$ $\\begin{bmatrix}\n",
    " 1&  0& 0 & |17\\\\\n",
    " 0& 1& 0 &|1\\\\ \n",
    " 0&  0& 1 &|21 \\end{bmatrix}$\n",
    " \n",
    " <br>\n",
    " Portanto $\\textbf{x = 17, y = 1, z = 21}$"
   ]
  },
  {
   "cell_type": "markdown",
   "metadata": {},
   "source": [
    "<p align=\"justify\">(b) Aplique o Método de Gauss-Jacobi a partir do ponto inicial $x^{(0)} = (16, 2, 20)$ e forneça uma tabela com as 10 primeiras iterações.</p>\n",
    "\n",
    "<div style=\"page-break-after: always;\"></div>\n"
   ]
  },
  {
   "cell_type": "markdown",
   "metadata": {},
   "source": [
    "| n | X | Y | Z | E(X) | E(Y) | E(Z) |\n",
    "|:-:|:-:|:-:|:-:|:-:|:-:|:-:|\n",
    "| 0 | 16,00000 | 2,00000 | 20,00000 | ** | ** | ** |\n",
    "| 1 | 14,00000 | 1,16667 | 14,66667 | 2,00000 | 0,83333 | 5,33333 |\n",
    "| 2 | 19,58333 | 1,73810 | 21,83333 | 5,58333 | 0,57143 | 7,16667 |\n",
    "| 3 | 14,00000 | 0,69444 | 14,11111 | 5,58333 | 1,04365 | 7,72222 |\n",
    "| 4 | 21,51389 | 1,77778 | 25,13889 | 7,51389 | 1,08333 | 11,02778 |\n",
    "| 5 | 12,20833 | 0,27447 | 12,54630 | 9,30556 | 1,50331 | 12,59259 |\n",
    "| 6 | 23,76620 | 2,06019 | 29,27315 | 11,55787 | 1,78571 | 16,72685 |\n",
    "| 7 | 9,15278 | -0,23534 | 9,06790 | 14,61343 | 2,29552 | 20,20525 |\n",
    "| 8 | 27,28974 | 2,59965 | 34,87886 | 18,13696 | 2,83499 | 25,81096 |\n",
    "| 9 | 4,46181 | -0,97132 | 2,94264 | 22,82793 | 3,57097 | 31,93621 |\n",
    "| 10 | 32,92831 | 3,48392 | 43,15805 | 28,46650 | 4,45525 | 40,21541 |"
   ]
  },
  {
   "cell_type": "markdown",
   "metadata": {},
   "source": [
    "<p align=\"justify\">(c) Justifique, com suas palavras, o comportamento do método no item anterior.</p>"
   ]
  },
  {
   "cell_type": "markdown",
   "metadata": {},
   "source": [
    "<p align=\"justify\"><span style=\"color:red\">Resp.</span>: Como as equações do sistema são divergente, o comportamento só poderia ser de erro, já que a medida que é utilizado um ponto, o seguinte se afastará do desejado. Ao se plotar o gráfico do sistema é notado que as funções se encontram, portanto há uma solução, mas com as equações providas não é possível determinar com Gauss-Jacobi. No item a) foi possível com Gauss-Jordan. </p>\n",
    "\n",
    "<p align=\"justify\">O erro absoluto deveria diminuir para ter um resultado preciso, entretanto o valor só se afasta, crescendo o erro.</p>"
   ]
  },
  {
   "cell_type": "markdown",
   "metadata": {},
   "source": [
    "<p align=\"justify\">(d) Determine um sistema equivalente em que seja possível aplicar o Método de Gauss-Jacobi para encontrar a mesma solução do primeiro item com precisão de $\\epsilon = 10^{−3}$. </p>"
   ]
  },
  {
   "cell_type": "markdown",
   "metadata": {},
   "source": [
    "<p align=\"justify\"><span style=\"color:red\">Resp.</span>: Aplicando o méetodo de Gauss-Jordan, como no item a), no passo 3 temos: \n",
    "$$\\begin{bmatrix}\n",
    " 1&  7/2& 1/2 & |31\\\\\n",
    " 0& 28& 1&|49\\\\ \n",
    " 0&  14& 2 &|56\n",
    "\\end{bmatrix}$$, utilizando-o com os valores sugeridos de $x^{(0)} = (16, 2, 20)$, obtemos, na 15ª iteração, valores com $\\epsilon = 10^{-3}$, ver tabela no item f ). </p>"
   ]
  },
  {
   "cell_type": "markdown",
   "metadata": {},
   "source": [
    "<p align=\"justify\">(e) Escreva as equações utilizadas no método."
   ]
  },
  {
   "cell_type": "markdown",
   "metadata": {},
   "source": [
    "Equações:\n",
    "\\begin{align*}x+7/2y+1/2z &= 31\\\\\n",
    "28y+ z &= 49\\\\\n",
    "14y + 2z &= 56\n",
    "\\end{align*}\n"
   ]
  },
  {
   "cell_type": "markdown",
   "metadata": {},
   "source": [
    "<p align=\"justify\">(f) Coloque a tabela com as aproximações realizadas e o erro por iteração. </p>"
   ]
  },
  {
   "cell_type": "markdown",
   "metadata": {},
   "source": [
    "| Sistema |     |     |    |\n",
    "|:-:|:-:|:-:|:-:|\n",
    "| x       | y   | z   | B  |\n",
    "| 1       | 3,5 | 0,5 | 31 |\n",
    "| 0       | 28  | 1   | 49 |\n",
    "| 0       | 14  | 2   | 56 |\n",
    "\n",
    "| n | X | Y | Z | E(X) | E(Y) | E(Z) |\n",
    "|:-:|:-:|:-:|:-:|:-:|:-:|:-:|\n",
    "| 0 | 16,00000 | 2,00000 | 20,00000 | ** | ** | ** |\n",
    "| 1 | 14,00000 | 1,03571 | 14,00000 | 2,00000 | 0,96429 | 6,00000 |\n",
    "| 2 | 20,37500 | 1,25000 | 20,75000 | 6,37500 | 0,21429 | 6,75000 |\n",
    "| 3 | 16,25000 | 1,00893 | 19,25000 | 4,12500 | 0,24107 | 1,50000 |\n",
    "| 4 | 17,84375 | 1,06250 | 20,93750 | 1,59375 | 0,05357 | 1,68750 |\n",
    "| 5 | 16,81250 | 1,00223 | 20,56250 | 1,03125 | 0,06027 | 0,37500 |\n",
    "| 6 | 17,21094 | 1,01563 | 20,98438 | 0,39844 | 0,01339 | 0,42188 |\n",
    "| 7 | 16,95313 | 1,00056 | 20,89063 | 0,25781 | 0,01507 | 0,09375 |\n",
    "| 8 | 17,05273 | 1,00391 | 20,99609 | 0,09961 | 0,00335 | 0,10547 |\n",
    "| 9 | 16,98828 | 1,00014 | 20,97266 | 0,06445 | 0,00377 | 0,02344 |\n",
    "| 10 | 17,01318 | 1,00098 | 20,99902 | 0,02490 | 0,00084 | 0,02637 |\n",
    "| 11 | 16,99707 | 1,00003 | 20,99316 | 0,01611 | 0,00094 | 0,00586 |\n",
    "| 12 | 17,00330 | 1,00024 | 20,99976 | 0,00623 | 0,00021 | 0,00659 |\n",
    "| 13 | 16,99927 | 1,00001 | 20,99829 | 0,00403 | 0,00024 | 0,00146 |\n",
    "| 14 | 17,00082 | 1,00006 | 20,99994 | 0,00156 | 0,00005 | 0,00165 |\n",
    "| 15 | 16,99982 | 1,00000 | 20,99957 | 0,00101 | 0,00006 | 0,00037 |\n",
    "\n",
    "Arredondando os valores de x, y e z, com a função round (python) na terceira casa decimal $10^{-3}$, temos:"
   ]
  },
  {
   "cell_type": "code",
   "execution_count": 1,
   "metadata": {},
   "outputs": [],
   "source": [
    "print(\"x = {:}\".format(round(16.9998168945313,3)))\n",
    "print(\"y = {:}\".format(round(1.00000217982701,3)))\n",
    "print(\"z = {:}\".format(round(20.9995727539062,3)))"
   ]
  }
 ],
 "metadata": {
  "kernelspec": {
   "display_name": "Python 3",
   "language": "python",
   "name": "python3"
  },
  "language_info": {
   "codemirror_mode": {
    "name": "ipython",
    "version": 3
   },
   "file_extension": ".py",
   "mimetype": "text/x-python",
   "name": "python",
   "nbconvert_exporter": "python",
   "pygments_lexer": "ipython3",
   "version": "3.8.5"
  },
  "latex_envs": {
   "LaTeX_envs_menu_present": true,
   "autoclose": true,
   "autocomplete": true,
   "bibliofile": "biblio.bib",
   "cite_by": "apalike",
   "current_citInitial": 1,
   "eqLabelWithNumbers": true,
   "eqNumInitial": 1,
   "hotkeys": {
    "equation": "Ctrl-E",
    "itemize": "Ctrl-I"
   },
   "labels_anchors": false,
   "latex_user_defs": false,
   "report_style_numbering": false,
   "user_envs_cfg": false
  }
 },
 "nbformat": 4,
 "nbformat_minor": 4
}
