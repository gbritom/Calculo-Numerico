{
 "cells": [
  {
   "cell_type": "markdown",
   "metadata": {},
   "source": [
    "<center><h1>Cálculo Numérico</h1>\n",
    "    <h2>Lista de Exercícios 03: Método de Newton</h2>\n",
    "    <hr>\n",
    "        <p>Aluno: Gabriel Brito Melandes\n",
    "        <p>Curso: Ciência da Computação\n",
    "        <p>Matricula: 171057600079\n",
    "    </center>"
   ]
  },
  {
   "cell_type": "markdown",
   "metadata": {},
   "source": [
    "<h3>Imports</h3>"
   ]
  },
  {
   "cell_type": "code",
   "execution_count": 1,
   "metadata": {},
   "outputs": [],
   "source": [
    "import numpy as np\n",
    "import matplotlib.pyplot as plt"
   ]
  },
  {
   "cell_type": "markdown",
   "metadata": {},
   "source": [
    "<h3>Funções</h3>"
   ]
  },
  {
   "cell_type": "code",
   "execution_count": 2,
   "metadata": {},
   "outputs": [],
   "source": [
    "def met_newton(F, F_dev, x0, qnt,prec):\n",
    "    x = np.zeros(qnt)\n",
    "    erro = []\n",
    "    x[0] = x0\n",
    "    for i in range (1, qnt):\n",
    "        x[i] = x[i-1] - F(x[i-1])/F_dev(x[i-1])\n",
    "        erro.append(abs(x[i]-x[i-1]))\n",
    "        if erro[i-1] < prec:\n",
    "            return x[i]"
   ]
  },
  {
   "cell_type": "markdown",
   "metadata": {},
   "source": [
    "<h3>Exercícios</h3><hr><b>3.4.1.</b> <br> Encontre a raiz positiva da função $f(x) = cos(x) − x^2$ pelo método\n",
    "de Newton inicializando-o com $x^{(0)} = 1$. Realize a iteração até obter estabilidade\n",
    "no quinto dígito significativo."
   ]
  },
  {
   "cell_type": "code",
   "execution_count": 3,
   "metadata": {},
   "outputs": [],
   "source": [
    "def f(x):\n",
    "    return np.cos(x) - x**2\n",
    "def f1(x):\n",
    "    return -np.sin(x) - 2*x"
   ]
  },
  {
   "cell_type": "code",
   "execution_count": 4,
   "metadata": {},
   "outputs": [
    {
     "data": {
      "text/plain": [
       "0.82413"
      ]
     },
     "execution_count": 4,
     "metadata": {},
     "output_type": "execute_result"
    }
   ],
   "source": [
    "round(met_newton(f,f1,1,15,1e-5),5)"
   ]
  },
  {
   "cell_type": "markdown",
   "metadata": {},
   "source": [
    "<hr><b>3.4.2.</b> <br>Considere o problema de calcular as soluções positivas da equação:$$tg (x) = 2x^2$$. "
   ]
  },
  {
   "cell_type": "code",
   "execution_count": 5,
   "metadata": {},
   "outputs": [],
   "source": [
    "def f(x):\n",
    "    return np.tan(x)-2*x**2"
   ]
  },
  {
   "cell_type": "markdown",
   "metadata": {},
   "source": [
    "<h4>a) </h4>Use o método gráfico para isolar as duas primeiras raízes positivas em pequenos intervalos. Use a teoria para argumentar quanto à existência e unicidade das raízes dentro intervalos escolhidos."
   ]
  },
  {
   "cell_type": "code",
   "execution_count": 6,
   "metadata": {},
   "outputs": [
    {
     "data": {
      "image/png": "[encoded data removed]",
      "text/plain": [
       "<Figure size 432x288 with 1 Axes>"
      ]
     },
     "metadata": {
      "needs_background": "light"
     },
     "output_type": "display_data"
    }
   ],
   "source": [
    "x = np.linspace(0.1,2,20)\n",
    "y = np.tan(x)-2*x**2\n",
    "\n",
    "plt.xlabel('x')\n",
    "plt.ylabel('f (x)')\n",
    "plt.plot(x,y)\n",
    "plt.axhline(0, color='gray')\n",
    "plt.grid()\n",
    "plt.show()"
   ]
  },
  {
   "cell_type": "markdown",
   "metadata": {},
   "source": [
    "Entre 0 e 0.75 possui uma raiz positiva e entre 1 e 1.5 possui outra raiz positiva. O salto para 1.5 na verdade deveria ser um f(x)negativo, mas como está sendo tracejado uma linha entre os pontos calculados, neste caso não é mostrado. Respondendo o item a, veja os graficos precisos abaixo."
   ]
  },
  {
   "cell_type": "code",
   "execution_count": 7,
   "metadata": {},
   "outputs": [
    {
     "data": {
      "image/png": "[encoded data removed]",
      "text/plain": [
       "<Figure size 432x288 with 1 Axes>"
      ]
     },
     "metadata": {
      "needs_background": "light"
     },
     "output_type": "display_data"
    }
   ],
   "source": [
    "x = np.linspace(0,1,20)\n",
    "y = np.tan(x)-2*x**2\n",
    "\n",
    "plt.xlabel('x')\n",
    "plt.ylabel('f (x)')\n",
    "plt.plot(x,y)\n",
    "plt.axhline(0, color='gray')\n",
    "plt.grid()\n",
    "\n",
    "x = np.linspace(1,1.5,20)\n",
    "y = np.tan(x)-2*x**2\n",
    "\n",
    "plt.xlabel('x')\n",
    "plt.ylabel('f (x)')\n",
    "plt.plot(x,y)\n",
    "plt.axhline(0, color='gray')\n",
    "plt.grid()\n",
    "\n",
    "\n",
    "plt.tight_layout()"
   ]
  },
  {
   "cell_type": "markdown",
   "metadata": {},
   "source": [
    "<h4>b)</h4> Calcule cada uma das raízes pelo método de Newton com oito dígitos significativos e discuta a convergência."
   ]
  },
  {
   "cell_type": "code",
   "execution_count": 8,
   "metadata": {},
   "outputs": [
    {
     "data": {
      "text/plain": [
       "1.27034265"
      ]
     },
     "execution_count": 8,
     "metadata": {},
     "output_type": "execute_result"
    }
   ],
   "source": [
    "def f1(x):\n",
    "    return (1/(np.cos(x))**2)-4*x\n",
    "\n",
    "round(met_newton(f,f1,0.3,30,1e-8),8)"
   ]
  },
  {
   "cell_type": "code",
   "execution_count": 9,
   "metadata": {},
   "outputs": [
    {
     "data": {
      "text/plain": [
       "0.55970415"
      ]
     },
     "execution_count": 9,
     "metadata": {},
     "output_type": "execute_result"
    }
   ],
   "source": [
    "round(met_newton(f,f1,0.4,30,1e-8),8)"
   ]
  },
  {
   "cell_type": "markdown",
   "metadata": {},
   "source": [
    "Veja que ao utilizar o chute de 0.3 foi obtido que a raiz era de 1.2703..., porém a mais próxima é de 0.5597..., que é 1 décimo maior que o chute anterior. Uma outra forma de visualizar essa discrepância no chute pode ser vista abaixo.\n"
   ]
  },
  {
   "cell_type": "code",
   "execution_count": 10,
   "metadata": {},
   "outputs": [
    {
     "name": "stdout",
     "output_type": "stream",
     "text": [
      "chute 0.0: 0.00000000\n",
      "chute 0.1: -0.00000000\n",
      "chute 0.2: -0.00000000\n",
      "chute 0.3: 1.27034265\n",
      "chute 0.4: 0.55970415\n",
      "chute 0.5: 0.55970415\n",
      "chute 0.6: 0.55970415\n",
      "chute 0.7: 0.55970415\n",
      "chute 0.8: 0.55970415\n",
      "chute 0.9: 0.55970415\n",
      "chute 1.0: -0.00000000\n",
      "chute 1.1: -0.00000000\n",
      "chute 1.2: 1.27034265\n",
      "chute 1.3: 1.27034265\n",
      "chute 1.4: 1.27034265\n"
     ]
    }
   ],
   "source": [
    "i = 0.0\n",
    "while i <= 1.5:\n",
    "    print('chute {:.1f}: {:.8f}'.format(i, met_newton(f,f1,i,30,1e-8)))\n",
    "    i = i+.1"
   ]
  },
  {
   "cell_type": "markdown",
   "metadata": {},
   "source": [
    "<hr><b>3.4.3.</b> <br>Considere a equação \n",
    "$$e^{−x^2} = x $$\n",
    "trace o gráfico com auxílio do computador e verifique que ela possui uma raiz\n",
    "positiva. Encontre uma aproximação para esta raiz pelo gráfico e use este valor\n",
    "para inicializar o método de Newton e obtenha uma aproximação para a raiz com\n",
    "8 dígitos significativos."
   ]
  },
  {
   "cell_type": "code",
   "execution_count": 11,
   "metadata": {},
   "outputs": [
    {
     "data": {
      "image/png": "[encoded data removed]",
      "text/plain": [
       "<Figure size 432x288 with 1 Axes>"
      ]
     },
     "metadata": {
      "needs_background": "light"
     },
     "output_type": "display_data"
    }
   ],
   "source": [
    "x = np.linspace(-10,10,100)\n",
    "y = np.exp(-x**2)-x\n",
    "\n",
    "plt.xlabel('x')\n",
    "plt.ylabel('f (x)')\n",
    "plt.plot(x,y)\n",
    "plt.axhline(0, color='gray')\n",
    "plt.grid()\n",
    "plt.show()"
   ]
  },
  {
   "cell_type": "code",
   "execution_count": 12,
   "metadata": {},
   "outputs": [
    {
     "data": {
      "text/plain": [
       "0.65291864"
      ]
     },
     "execution_count": 12,
     "metadata": {},
     "output_type": "execute_result"
    }
   ],
   "source": [
    "def f(x):\n",
    "    return np.exp(-x**2)-x\n",
    "def f1(x):\n",
    "    return -2*x*np.exp(-x**2) -1\n",
    "round(met_newton(f,f1,0,30,1e-8),8)"
   ]
  },
  {
   "cell_type": "markdown",
   "metadata": {},
   "source": [
    "<hr><b>3.4.4.</b> <br>\n",
    "Isole e encontre as cinco primeiras raízes positivas da equação com 6\n",
    "dígitos corretos através de traçado de gráfico e do método de Newton.\n",
    "$$cos(10x) = e^{−x}$$\n",
    "Dica: a primeira raiz positiva está no intervalo (0, 0,02). Fique atento"
   ]
  },
  {
   "cell_type": "code",
   "execution_count": 13,
   "metadata": {},
   "outputs": [],
   "source": [
    "def f(x):\n",
    "    return np.cos(10*x)-np.exp(-x)\n",
    "def f1(x):\n",
    "    return -10*np.sin(10*x) + np.exp(-x)"
   ]
  },
  {
   "cell_type": "code",
   "execution_count": 14,
   "metadata": {},
   "outputs": [
    {
     "name": "stdout",
     "output_type": "stream",
     "text": [
      "[0.019868, 0.53389, 0.735412, 1.13237, 1.388506]\n"
     ]
    }
   ],
   "source": [
    "i = 0\n",
    "n = 0\n",
    "raiz=[]\n",
    "while i < 2:\n",
    "    if met_newton(f,f1,i,30,1e-6):\n",
    "        raiz.append(round(met_newton(f,f1,i,30,1e-8),6))\n",
    "    i=i+0.2\n",
    "\n",
    "tmp_list=[]\n",
    "for i in raiz:\n",
    "    if i not in tmp_list:\n",
    "        tmp_list.append(i)\n",
    "\n",
    "print(tmp_list[0:5])"
   ]
  },
  {
   "cell_type": "markdown",
   "metadata": {},
   "source": [
    "<hr><b>3.4.5.</b> <br>\n",
    "Encontre as raízes do polinômio $f(x) = x^4 − 4x^2 + 4 $ através do\n",
    "método de Newton. O que você observa em relação ao erro obtido? Compare com\n",
    "a situação do Problema "
   ]
  },
  {
   "cell_type": "code",
   "execution_count": 15,
   "metadata": {},
   "outputs": [],
   "source": [
    "def f(x):\n",
    "    return x**4 - 4*x**2 + 4\n",
    "def f1(x):\n",
    "    return 4*x**3 - 8*x"
   ]
  },
  {
   "cell_type": "code",
   "execution_count": 16,
   "metadata": {},
   "outputs": [
    {
     "name": "stdout",
     "output_type": "stream",
     "text": [
      "f(1) = 1.768081, erro = 0.26076673\n",
      "f(2) = 1.608853, erro = 0.15922789\n",
      "f(3) = 1.517420, erro = 0.09143301\n",
      "f(4) = 1.467572, erro = 0.04984851\n",
      "f(5) = 1.441378, erro = 0.02619415\n",
      "f(6) = 1.427924, erro = 0.01345409\n",
      "f(7) = 1.421102, erro = 0.00682212\n",
      "f(8) = 1.417666, erro = 0.00343562\n",
      "f(9) = 1.415942, erro = 0.00172406\n",
      "f(10) = 1.415078, erro = 0.00086360\n",
      "f(11) = 1.414646, erro = 0.00043220\n",
      "f(12) = 1.414430, erro = 0.00021620\n",
      "f(13) = 1.414322, erro = 0.00010812\n",
      "f(14) = 1.414268, erro = 0.00005407\n",
      "f(15) = 1.414241, erro = 0.00002704\n",
      "f(16) = 1.414227, erro = 0.00001352\n",
      "f(17) = 1.414220, erro = 0.00000676\n",
      "f(18) = 1.414217, erro = 0.00000338\n",
      "f(19) = 1.414215, erro = 0.00000169\n",
      "f(20) = 1.414214, erro = 0.00000084\n",
      "f(21) = 1.414214, erro = 0.00000042\n",
      "f(22) = 1.414214, erro = 0.00000021\n",
      "f(23) = 1.414214, erro = 0.00000011\n",
      "f(24) = 1.414214, erro = 0.00000005\n"
     ]
    },
    {
     "data": {
      "text/plain": [
       "1.4142136155025797"
      ]
     },
     "execution_count": 16,
     "metadata": {},
     "output_type": "execute_result"
    }
   ],
   "source": [
    "def outro(F, F_dev, x0, qnt,prec):\n",
    "    x = np.zeros(qnt)\n",
    "    erro = []\n",
    "    x[0] = x0\n",
    "    for i in range (1, qnt):\n",
    "        x[i] = x[i-1] - F(x[i-1])/F_dev(x[i-1])\n",
    "        erro.append(abs(x[i]-x[i-1]))\n",
    "        print('f({:.0f}) = {:7f}, erro = {:.8f}'.format(i,x[i],erro[i-1]))\n",
    "        if erro[i-1] < prec:\n",
    "            return x[i]\n",
    "        \n",
    "outro(f,f1,i,30,1e-7)"
   ]
  },
  {
   "cell_type": "markdown",
   "metadata": {},
   "source": [
    "Nada anormal, a precisão varia muito pouco e o valor novo também."
   ]
  },
  {
   "cell_type": "markdown",
   "metadata": {},
   "source": [
    "<hr><b>3.4.6.</b> <br>Encontre as raízes reais do polinômio $f(x) = \\frac{x^5}{100} +x^4+3x+1$ isolando-as pelo método do gráfico e depois usando o método de Newton. Expresse a solução com 7 dígitos significativos."
   ]
  },
  {
   "cell_type": "code",
   "execution_count": 17,
   "metadata": {},
   "outputs": [],
   "source": [
    "def f(x):\n",
    "    return ((x**5)/(100))+x**4+3*x+1\n",
    "def f1(x):\n",
    "    return ((5*x**4)/100)+4*x**3+3"
   ]
  },
  {
   "cell_type": "code",
   "execution_count": 18,
   "metadata": {},
   "outputs": [
    {
     "data": {
      "image/png": "[encoded data removed]",
      "text/plain": [
       "<Figure size 432x288 with 1 Axes>"
      ]
     },
     "metadata": {
      "needs_background": "light"
     },
     "output_type": "display_data"
    }
   ],
   "source": [
    "x = np.linspace(-1,1,40)\n",
    "y = ((x**5)/(100))+x**4+3*x+1\n",
    "\n",
    "plt.xlabel('x')\n",
    "plt.ylabel('f (x)')\n",
    "plt.plot(x,y)\n",
    "plt.axhline(0, color='gray')\n",
    "plt.show()"
   ]
  },
  {
   "cell_type": "code",
   "execution_count": 19,
   "metadata": {},
   "outputs": [
    {
     "data": {
      "text/plain": [
       "-0.3376513"
      ]
     },
     "execution_count": 19,
     "metadata": {},
     "output_type": "execute_result"
    }
   ],
   "source": [
    "round(met_newton(f,f1,0,30,1e-7),7)"
   ]
  },
  {
   "cell_type": "markdown",
   "metadata": {},
   "source": [
    "<hr><b>3.4.7.</b> <br>\n",
    "Considere o método de Newton aplicado para encontrar a raiz de\n",
    "$f(x) = x^3 − 2x + 2$. O que acontece quando $x^{(0)} = 0$? Escolha um valor adequado para inicializar o método e obter a única raiz real desta equação."
   ]
  },
  {
   "cell_type": "code",
   "execution_count": 20,
   "metadata": {},
   "outputs": [],
   "source": [
    "def f(x):\n",
    "    return x**3-2*x+2\n",
    "def f1(x):\n",
    "    return 3*x**2-2"
   ]
  },
  {
   "cell_type": "code",
   "execution_count": 21,
   "metadata": {},
   "outputs": [
    {
     "name": "stdout",
     "output_type": "stream",
     "text": [
      "f(-2.0) = -1.769292\n",
      "f(-1.0) = -1.769292\n"
     ]
    }
   ],
   "source": [
    "for i in range (-2, 2):\n",
    "    try:\n",
    "        print('f({:.1f}) = {:.6f}'.format(i,met_newton(f,f1,i,20,1e-4)))\n",
    "    except:\n",
    "        pass"
   ]
  },
  {
   "cell_type": "markdown",
   "metadata": {},
   "source": [
    "Se $x^{(0)} = 0$ temos que x[i] = x[i-1] - F(x[i-1])/F_dev(x[i-1]) = \n",
    "x[i] = $0 - \\frac{F{0}} {F'{0}}$ =$ 0 - \\frac{2}{-2} = 0$., em seguida esse teremos 1, criando um loop. \n",
    "\n",
    "Ver codigo abaixo."
   ]
  },
  {
   "cell_type": "code",
   "execution_count": 22,
   "metadata": {},
   "outputs": [
    {
     "name": "stdout",
     "output_type": "stream",
     "text": [
      "f(1) = 0.000000\n",
      "f(2) = 1.000000\n",
      "f(3) = 0.000000\n",
      "f(4) = 1.000000\n",
      "f(5) = 0.000000\n",
      "f(6) = 1.000000\n",
      "f(7) = 0.000000\n",
      "f(8) = 1.000000\n",
      "f(9) = 0.000000\n"
     ]
    }
   ],
   "source": [
    "def outro(F, F_dev, x0, qnt,prec):\n",
    "    x = np.zeros(qnt)\n",
    "    erro = []\n",
    "    x[0] = x0\n",
    "    for i in range (1, qnt):\n",
    "        x[i] = x[i-1] - F(x[i-1])/F_dev(x[i-1])\n",
    "        erro.append(abs(x[i]-x[i-1]))\n",
    "        print('f({:.0f}) = {:7f}'.format(i,x[i]))\n",
    "        if erro[i-1] < prec:\n",
    "            return x[i]\n",
    "        \n",
    "outro(f,f1,i,10,1e-4)"
   ]
  }
 ],
 "metadata": {
  "kernelspec": {
   "display_name": "Python 3",
   "language": "python",
   "name": "python3"
  },
  "language_info": {
   "codemirror_mode": {
    "name": "ipython",
    "version": 3
   },
   "file_extension": ".py",
   "mimetype": "text/x-python",
   "name": "python",
   "nbconvert_exporter": "python",
   "pygments_lexer": "ipython3",
   "version": "3.8.5"
  }
 },
 "nbformat": 4,
 "nbformat_minor": 4
}
