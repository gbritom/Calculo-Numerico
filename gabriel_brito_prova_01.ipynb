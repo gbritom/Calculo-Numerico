{
 "cells": [
  {
   "cell_type": "raw",
   "metadata": {},
   "source": [
    "vs<div style=\"text-align: justify\">"
   ]
  },
  {
   "cell_type": "markdown",
   "metadata": {},
   "source": [
    "<center><h1 style = \"color:black\">Cálculo Numérico</h1>\n",
    "    <h2>Avaliação 1.3</h2>\n",
    "    <hr>\n",
    "        <p style='text-align: justify;'>Aluno: Gabriel Brito Melandes\n",
    "        <p>Curso: Ciência da Computação\n",
    "        <p>Matricula: 171057600079\n",
    "    </center>\n",
    "    <hr>"
   ]
  },
  {
   "cell_type": "markdown",
   "metadata": {},
   "source": [
    "<p><justify>\n",
    "<h3>Imports</h3>"
   ]
  },
  {
   "cell_type": "code",
   "execution_count": 1,
   "metadata": {
    "scrolled": false
   },
   "outputs": [],
   "source": [
    "import numpy as np\n",
    "import matplotlib.pyplot as plt\n",
    "from scipy import optimize\n",
    "from tabulate import tabulate"
   ]
  },
  {
   "cell_type": "markdown",
   "metadata": {},
   "source": [
    "<hr><h3>Funções</h3><p style='text-align: justify;'>"
   ]
  },
  {
   "cell_type": "code",
   "execution_count": 2,
   "metadata": {
    "scrolled": false
   },
   "outputs": [],
   "source": [
    "header = ['k', 'ak', 'xk', 'bk', 'f(xk)', \"|erro|\"]\n",
    "table = [] # tabela de preenchimento"
   ]
  },
  {
   "cell_type": "code",
   "execution_count": 3,
   "metadata": {
    "scrolled": false
   },
   "outputs": [],
   "source": [
    "def biss(f, a, b, TOL, N):\n",
    "    i = 1\n",
    "    fa = f(a)\n",
    "    while (i <= N):\n",
    "     # iteracao da bissecao\n",
    "        p = a + (b-a)/2\n",
    "        fp = f(p)\n",
    "        fb = f(b)\n",
    "     # condição de saída\n",
    "        if ((fp*fa > 0) and ((fp*fb) > 0)):\n",
    "            break\n",
    "        # adicionando elementos na tabela\n",
    "        table.append([i-1, a, p, b, fp, np.abs(b-a)])\n",
    "        # condicao de parada\n",
    "        if ((fp == 0) or (np.abs((b-a)/2) <= TOL)):\n",
    "            return p\n",
    "        # bissecta o intervalo\n",
    "        i = i+1\n",
    "        if (fa * fp > 0):\n",
    "            a = p\n",
    "            fa = fp\n",
    "        else:\n",
    "            b = p"
   ]
  },
  {
   "cell_type": "code",
   "execution_count": 4,
   "metadata": {
    "scrolled": false
   },
   "outputs": [],
   "source": [
    "def secante(f, x0, x1, TOL, qnt):\n",
    "    erro = []\n",
    "    for i in range(qnt):\n",
    "        x2 = x1 - f(x1) * (x1 - x0) / float(f(x1) - f(x0))\n",
    "        erro.append(abs(x2-x1))\n",
    "        table.append([i,x0,x1,x2,f(x0),f(x1),f(x2),erro[i]])\n",
    "        x0, x1 = x1, x2\n",
    "        if erro[i] < TOL:\n",
    "            return x1"
   ]
  },
  {
   "cell_type": "markdown",
   "metadata": {},
   "source": [
    "<p style='text-align: justify;'> Para o método da <b>secante</b> e de o de <b>newton</b>, se o valor de aproximação substituido em $f(x)$ for menor que o erro tolerável, retorna o valor."
   ]
  },
  {
   "cell_type": "code",
   "execution_count": 5,
   "metadata": {
    "scrolled": false
   },
   "outputs": [],
   "source": [
    "def newton(F, F_dev, x0, TOL, qnt):\n",
    "    x = np.zeros(qnt)\n",
    "    erro = []\n",
    "    x[0] = x0\n",
    "    for i in range (qnt):\n",
    "        x[i] = x[i-1] - F(x[i-1])/F_dev(x[i-1])\n",
    "        erro.append(abs(x[i]-x[i-1]))\n",
    "        table.append([i, x[i-1], F(x[i-1]), x[i], erro[i]])\n",
    "        if (erro[i]) < TOL:\n",
    "            return x[i]"
   ]
  },
  {
   "cell_type": "markdown",
   "metadata": {},
   "source": [
    "<h3>Exercícios</h3><hr><b>1.</b> <br><p style='text-align: justify;'> Crie uma função $f(x)$ que possua uma única raiz real $ξ$ tal que o Método da Bisseção não seja aplicável. Para organizar sua resposta, pense no seguinte:\n",
    "<p style='text-align: justify;'>(a) Descreva sua $f(x)$ e qual é a raiz que seria aproximada."
   ]
  },
  {
   "cell_type": "code",
   "execution_count": 6,
   "metadata": {
    "scrolled": false
   },
   "outputs": [],
   "source": [
    "def f(x):\n",
    "    return x**2"
   ]
  },
  {
   "cell_type": "code",
   "execution_count": 7,
   "metadata": {
    "scrolled": false
   },
   "outputs": [
    {
     "data": {
      "image/png": "[encoded data removed]",
      "text/plain": [
       "<Figure size 432x288 with 1 Axes>"
      ]
     },
     "metadata": {
      "needs_background": "light"
     },
     "output_type": "display_data"
    }
   ],
   "source": [
    "x = np.linspace(-1,1,30)\n",
    "y = f(x)\n",
    "\n",
    "plt.axhline(0, color='gray')\n",
    "plt.axvline(0, color='gray')\n",
    "plt.xlabel('x')\n",
    "plt.ylabel('f (x)')\n",
    "plt.plot(x,y)\n",
    "\n",
    "\n",
    "plt.show()"
   ]
  },
  {
   "cell_type": "markdown",
   "metadata": {},
   "source": [
    "<p style='text-align: justify;'>Raiz é aproximadamente 0."
   ]
  },
  {
   "cell_type": "markdown",
   "metadata": {},
   "source": [
    "<p style='text-align: justify;'>(b) Demonstre que o método não converge para a solução do problema $f(ξ) = 0$"
   ]
  },
  {
   "cell_type": "code",
   "execution_count": 8,
   "metadata": {
    "scrolled": true
   },
   "outputs": [
    {
     "name": "stdout",
     "output_type": "stream",
     "text": [
      "Raiz encontrada no intervalo [ -1 ,  0 ]\n",
      "\n",
      "|  k  |     ak      |     xk      |  bk  |   f(xk)    |   |erro|   |\n",
      "|-----|-------------|-------------|------|------------|------------|\n",
      "|  0  | -1.00000000 | -0.50000000 |  0   | 0.25000000 | 1.00000000 |\n",
      "|  1  | -0.50000000 | -0.25000000 |  0   | 0.06250000 | 0.50000000 |\n",
      "|  2  | -0.25000000 | -0.12500000 |  0   | 0.01562500 | 0.25000000 |\n",
      "|  3  | -0.12500000 | -0.06250000 |  0   | 0.00390625 | 0.12500000 |\n",
      "|  4  | -0.06250000 | -0.03125000 |  0   | 0.00097656 | 0.06250000 |\n",
      "|  5  | -0.03125000 | -0.01562500 |  0   | 0.00024414 | 0.03125000 |\n",
      "|  6  | -0.01562500 | -0.00781250 |  0   | 0.00006104 | 0.01562500 |\n",
      "|  7  | -0.00781250 | -0.00390625 |  0   | 0.00001526 | 0.00781250 |\n",
      "|  8  | -0.00390625 | -0.00195312 |  0   | 0.00000381 | 0.00390625 |\n",
      "|  9  | -0.00195312 | -0.00097656 |  0   | 0.00000095 | 0.00195312 |\n",
      "| 10  | -0.00097656 | -0.00048828 |  0   | 0.00000024 | 0.00097656 |\n",
      "| 11  | -0.00048828 | -0.00024414 |  0   | 0.00000006 | 0.00048828 |\n",
      "| 12  | -0.00024414 | -0.00012207 |  0   | 0.00000001 | 0.00024414 |\n",
      "| 13  | -0.00012207 | -0.00006104 |  0   | 0.00000000 | 0.00012207 |\n",
      "Raiz encontrada no intervalo [ 0 ,  1 ]\n",
      "\n",
      "|  k  |  ak  |     xk     |     bk     |   f(xk)    |   |erro|   |\n",
      "|-----|------|------------|------------|------------|------------|\n",
      "|  0  |  0   | 0.50000000 | 1.00000000 | 0.25000000 | 1.00000000 |\n",
      "|  1  |  0   | 0.25000000 | 0.50000000 | 0.06250000 | 0.50000000 |\n",
      "|  2  |  0   | 0.12500000 | 0.25000000 | 0.01562500 | 0.25000000 |\n",
      "|  3  |  0   | 0.06250000 | 0.12500000 | 0.00390625 | 0.12500000 |\n",
      "|  4  |  0   | 0.03125000 | 0.06250000 | 0.00097656 | 0.06250000 |\n",
      "|  5  |  0   | 0.01562500 | 0.03125000 | 0.00024414 | 0.03125000 |\n",
      "|  6  |  0   | 0.00781250 | 0.01562500 | 0.00006104 | 0.01562500 |\n",
      "|  7  |  0   | 0.00390625 | 0.00781250 | 0.00001526 | 0.00781250 |\n",
      "|  8  |  0   | 0.00195312 | 0.00390625 | 0.00000381 | 0.00390625 |\n",
      "|  9  |  0   | 0.00097656 | 0.00195312 | 0.00000095 | 0.00195312 |\n",
      "| 10  |  0   | 0.00048828 | 0.00097656 | 0.00000024 | 0.00097656 |\n",
      "| 11  |  0   | 0.00024414 | 0.00048828 | 0.00000006 | 0.00048828 |\n",
      "| 12  |  0   | 0.00012207 | 0.00024414 | 0.00000001 | 0.00024414 |\n",
      "| 13  |  0   | 0.00006104 | 0.00012207 | 0.00000000 | 0.00012207 |\n"
     ]
    }
   ],
   "source": [
    "for i in range(-3, 3):\n",
    "    if biss(f, i, i+1, 1e-4, 20):\n",
    "        print(\"Raiz encontrada no intervalo [\", i, \", \", i+1, \"]\\n\")\n",
    "        print(tabulate(table, header, tablefmt=\"github\",\n",
    "        numalign=\"center\", floatfmt=\".8f\"))\n",
    "    table = [] "
   ]
  },
  {
   "cell_type": "markdown",
   "metadata": {},
   "source": [
    "<p style='text-align: justify;'>O ajuste feito no algorítmo do livro identifica que há uma raiz, porém o algorítimo nunca irá chegar no valor correto, zero (0), pois este ponto já foi tomado por a ou b, então o valor diferente da raiz sempre irá tentar se aproximar dele, mas sem sucesso. "
   ]
  },
  {
   "cell_type": "markdown",
   "metadata": {},
   "source": [
    "<hr><b>2.</b> <br><p style='text-align: justify;'> A proporção áurea $\\phi$, também conhecida por número de ouro, é muito utilizada por questões estéticas. Está presente em várias obras artísticas, no padrão A4 e também no formato dos cartões de crédito. O valor do número φ é dado pela raiz da equação abaixo:\n",
    "$$f(x) = x^2 − x − 1.$$\n",
    "Analise o comportamento do erro relativo nos métodos da Bisseção, de Newton e da Secante ao determinar a raiz da equação acima com precisão de, no mínimo, $10^{−4}$</p>\n",
    ".\n",
    "\n",
    "<b>(a)</b> Descreva o funcionamento dos seus algoritmos indicando equações e condições iniciais. (não é necessário realizar em Python, pode ser via tabela também)\n"
   ]
  },
  {
   "cell_type": "markdown",
   "metadata": {},
   "source": [
    "<p style='text-align: justify;'>Serão utilizadas funções das atividades anteriores, elas já foram informadas na introdução, na seção de Funções. Será <b>plotado o gráfico</b> da função e testado o intervalo baseado no <b>gráfico</b>."
   ]
  },
  {
   "cell_type": "code",
   "execution_count": 9,
   "metadata": {
    "scrolled": false
   },
   "outputs": [
    {
     "data": {
      "image/png": "[encoded data removed]",
      "text/plain": [
       "<Figure size 432x288 with 1 Axes>"
      ]
     },
     "metadata": {
      "needs_background": "light"
     },
     "output_type": "display_data"
    }
   ],
   "source": [
    "def f(x):\n",
    "    return x**2 - x - 1\n",
    "def f1(x):\n",
    "    return 2*x-1\n",
    "\n",
    "x = np.linspace(-3,3,30)\n",
    "y = f(x)\n",
    "plt.axhline(0, color='gray')\n",
    "plt.axvline(0, color='gray')\n",
    "plt.xlabel('x')\n",
    "plt.ylabel('f (x)')\n",
    "plt.plot(x,y)\n",
    "plt.show()"
   ]
  },
  {
   "cell_type": "markdown",
   "metadata": {},
   "source": [
    "<b>(b)</b><p style='text-align: justify;'>\n",
    "Realize a aproximação e calcule o erro relativo aproximado a cada iteração. Crie os gráficos do erro relativo aproximado por iteração. (podem ser os três gráficos num mesmo plano ou separados. Se não conseguir, coloque as três tabelas de erro por iteração.)"
   ]
  },
  {
   "cell_type": "code",
   "execution_count": 10,
   "metadata": {
    "scrolled": false
   },
   "outputs": [
    {
     "name": "stdout",
     "output_type": "stream",
     "text": [
      "Raiz encontrada no intervalo [ -1 ,  0 ]\n",
      "\n",
      "|  k  |   ak    |   xk    |   bk    |  f(xk)  |  |erro|  |\n",
      "|-----|---------|---------|---------|---------|----------|\n",
      "|  0  | -1.0000 | -0.5000 | 0.0000  | -0.2500 |  1.0000  |\n",
      "|  1  | -1.0000 | -0.7500 | -0.5000 | 0.3125  |  0.5000  |\n",
      "|  2  | -0.7500 | -0.6250 | -0.5000 | 0.0156  |  0.2500  |\n",
      "|  3  | -0.6250 | -0.5625 | -0.5000 | -0.1211 |  0.1250  |\n",
      "|  4  | -0.6250 | -0.5938 | -0.5625 | -0.0537 |  0.0625  |\n",
      "|  5  | -0.6250 | -0.6094 | -0.5938 | -0.0193 |  0.0312  |\n",
      "|  6  | -0.6250 | -0.6172 | -0.6094 | -0.0019 |  0.0156  |\n",
      "|  7  | -0.6250 | -0.6211 | -0.6172 | 0.0069  |  0.0078  |\n",
      "|  8  | -0.6211 | -0.6191 | -0.6172 | 0.0025  |  0.0039  |\n",
      "|  9  | -0.6191 | -0.6182 | -0.6172 | 0.0003  |  0.0020  |\n",
      "| 10  | -0.6182 | -0.6177 | -0.6172 | -0.0008 |  0.0010  |\n",
      "| 11  | -0.6182 | -0.6179 | -0.6177 | -0.0003 |  0.0005  |\n",
      "| 12  | -0.6182 | -0.6180 | -0.6179 | 0.0000  |  0.0002  |\n",
      "| 13  | -0.6180 | -0.6180 | -0.6179 | -0.0001 |  0.0001  |\n",
      "Raiz encontrada no intervalo [ 1 ,  2 ]\n",
      "\n",
      "|  k  |   ak   |   xk   |   bk   |  f(xk)  |  |erro|  |\n",
      "|-----|--------|--------|--------|---------|----------|\n",
      "|  0  | 1.0000 | 1.5000 | 2.0000 | -0.2500 |  1.0000  |\n",
      "|  1  | 1.5000 | 1.7500 | 2.0000 | 0.3125  |  0.5000  |\n",
      "|  2  | 1.5000 | 1.6250 | 1.7500 | 0.0156  |  0.2500  |\n",
      "|  3  | 1.5000 | 1.5625 | 1.6250 | -0.1211 |  0.1250  |\n",
      "|  4  | 1.5625 | 1.5938 | 1.6250 | -0.0537 |  0.0625  |\n",
      "|  5  | 1.5938 | 1.6094 | 1.6250 | -0.0193 |  0.0312  |\n",
      "|  6  | 1.6094 | 1.6172 | 1.6250 | -0.0019 |  0.0156  |\n",
      "|  7  | 1.6172 | 1.6211 | 1.6250 | 0.0069  |  0.0078  |\n",
      "|  8  | 1.6172 | 1.6191 | 1.6211 | 0.0025  |  0.0039  |\n",
      "|  9  | 1.6172 | 1.6182 | 1.6191 | 0.0003  |  0.0020  |\n",
      "| 10  | 1.6172 | 1.6177 | 1.6182 | -0.0008 |  0.0010  |\n",
      "| 11  | 1.6177 | 1.6179 | 1.6182 | -0.0003 |  0.0005  |\n",
      "| 12  | 1.6179 | 1.6180 | 1.6182 | 0.0000  |  0.0002  |\n",
      "| 13  | 1.6179 | 1.6180 | 1.6180 | -0.0001 |  0.0001  |\n"
     ]
    }
   ],
   "source": [
    "for i in range(-3, 3):\n",
    "    if biss(f, i, i+1, 1e-4, 20):\n",
    "        print(\"Raiz encontrada no intervalo [\", i, \", \", i+1, \"]\\n\")\n",
    "        print(tabulate(table, header, tablefmt=\"github\",\n",
    "        numalign=\"center\", floatfmt=\".4f\"))\n",
    "    table = [] # zera tabela para não acumular"
   ]
  },
  {
   "cell_type": "code",
   "execution_count": 11,
   "metadata": {
    "scrolled": false
   },
   "outputs": [
    {
     "name": "stdout",
     "output_type": "stream",
     "text": [
      "|  i  |  x(i-1)  |  F(x(i-1))  |  x(i)   |  erro  |\n",
      "|-----|----------|-------------|---------|--------|\n",
      "|  0  |  0.0000  |   -1.0000   | -1.0000 | 1.0000 |\n",
      "|  1  | -1.0000  |   1.0000    | -0.6667 | 0.3333 |\n",
      "|  2  | -0.6667  |   0.1111    | -0.6190 | 0.0476 |\n",
      "|  3  | -0.6190  |   0.0023    | -0.6180 | 0.0010 |\n",
      "|  4  | -0.6180  |   0.0000    | -0.6180 | 0.0000 |\n"
     ]
    }
   ],
   "source": [
    "header=['i', 'x(i-1)', 'F(x(i-1))', 'x(i)', 'erro']\n",
    "if newton(f, f1, -1, 1e-4, 20):\n",
    "    print(tabulate(table, header, tablefmt=\"github\", numalign=\"center\", floatfmt=\".4f\"))\n",
    "table = []"
   ]
  },
  {
   "cell_type": "code",
   "execution_count": 12,
   "metadata": {
    "scrolled": false
   },
   "outputs": [
    {
     "name": "stdout",
     "output_type": "stream",
     "text": [
      "|  i  |   x0    |   x1    |   x2    |  f(x0)  |  f(x1)  |  f(x2)  |  |erro|  |\n",
      "|-----|---------|---------|---------|---------|---------|---------|----------|\n",
      "|  0  | -3.0000 | -2.0000 | -1.1667 | 11.0000 | 5.0000  | 1.5278  |  0.8333  |\n",
      "|  1  | -2.0000 | -1.1667 | -0.8000 | 5.0000  | 1.5278  | 0.4400  |  0.3667  |\n",
      "|  2  | -1.1667 | -0.8000 | -0.6517 | 1.5278  | 0.4400  | 0.0764  |  0.1483  |\n",
      "|  3  | -0.8000 | -0.6517 | -0.6205 | 0.4400  | 0.0764  | 0.0056  |  0.0312  |\n",
      "|  4  | -0.6517 | -0.6205 | -0.6181 | 0.0764  | 0.0056  | 0.0001  |  0.0025  |\n",
      "|  5  | -0.6205 | -0.6181 | -0.6180 | 0.0056  | 0.0001  | 0.0000  |  0.0000  |\n"
     ]
    }
   ],
   "source": [
    "header=['i','x0','x1','x2','f(x0)','f(x1)','f(x2)','|erro|']\n",
    "if secante(f, -3, -2, 1e-4, 20):\n",
    "        print(tabulate(table, header, tablefmt=\"github\",\n",
    "        numalign=\"center\", floatfmt=\".4f\"))\n",
    "table=[]"
   ]
  },
  {
   "cell_type": "markdown",
   "metadata": {},
   "source": [
    "<b>(c)</b> Analise o comportamento do erro."
   ]
  },
  {
   "cell_type": "markdown",
   "metadata": {},
   "source": [
    "<p style='text-align: justify;'>Para o método da secante e o método de Newton, veja que o erro está relacionado com o $f(x)$, para a secante o erro é equivalente a $f{(x2)}$, e para o método de Newton, $f{(x_{i-1})}$. Estes são selhantes pois quando mais a função se aproxima de zero, melhor é o valor calculado. Outro ponto de parada poderia ser o $f(x_{substituido}) \\approx 0.$ O mesmo vale para o método da bisseção, porém sua leitura é mais simples e completa.\n",
    "\n",
    "<p style='text-align: justify;'>É notório a quantidade de iterações necessárias para se alcançar o objetivo, os métodos de newton e secante são mais precisos e exigem menos poderio computacional, quando comparados com o método da bisseção."
   ]
  }
 ],
 "metadata": {
  "kernelspec": {
   "display_name": "Anaconda (base)",
   "language": "python",
   "name": "anaconda-base"
  },
  "language_info": {
   "codemirror_mode": {
    "name": "ipython",
    "version": 3
   },
   "file_extension": ".py",
   "mimetype": "text/x-python",
   "name": "python",
   "nbconvert_exporter": "python",
   "pygments_lexer": "ipython3",
   "version": "3.8.5"
  }
 },
 "nbformat": 4,
 "nbformat_minor": 4
}
