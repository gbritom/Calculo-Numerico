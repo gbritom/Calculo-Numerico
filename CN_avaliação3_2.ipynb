{
 "cells": [
  {
   "cell_type": "markdown",
   "metadata": {
    "ipub": {
     "author": "Gabriel Brito Melandes",
     "email": "gbmelandes@gmail.com",
     "language": "brazilian",
     "subtitle": "Avaliação 3_2: Discursiva",
     "title": "Cálculo Numérico"
    }
   },
   "source": [
    "# Cálculo Numérico\n",
    "## Avaliação 3_2: Discursiva\n",
    "<hr>\n",
    "Aluno: Gabriel Brito Melandes\n",
    "\n",
    "Curso: Ciência da Computação\n",
    "\n",
    "Matricula: 171057600079\n",
    "<hr>"
   ]
  },
  {
   "cell_type": "markdown",
   "metadata": {},
   "source": [
    "## Imports"
   ]
  },
  {
   "cell_type": "code",
   "execution_count": 1,
   "metadata": {},
   "outputs": [],
   "source": [
    "import numpy as np\n",
    "import matplotlib.pyplot as plt\n",
    "import math\n",
    "import scipy as sp\n",
    "from scipy import integrate  # utilizado na quadratura gaussiana"
   ]
  },
  {
   "cell_type": "markdown",
   "metadata": {},
   "source": [
    "<hr> \n",
    "\n",
    "## Funções"
   ]
  },
  {
   "cell_type": "code",
   "execution_count": 2,
   "metadata": {},
   "outputs": [],
   "source": [
    "def int_trapezios_simples(F, a, b):\n",
    "    integral = ((F(a) + F(b)) * ((b - a) / 2))\n",
    "    return integral\n",
    "\n",
    "\n",
    "def int_trapezios(F, a, b, n):  # integração trapezoidal\n",
    "    h = float(b - a) / n\n",
    "    integral = 0.5 * F(a) + 0.5 * F(b)\n",
    "    for i in range(1, n):\n",
    "        integral += F(a + i * h)\n",
    "    return integral * h\n",
    "\n",
    "\n",
    "def int_simpson(F, a, b, n):  # integração de simpson\n",
    "    h = (b - a) / (3 * n)\n",
    "    integral = F(a) + F(b)\n",
    "    for i in range(1, n):\n",
    "        if (i % 2 == 1):\n",
    "            integral += 4 * F(a + (i * (b - a) / n))\n",
    "        else:\n",
    "            integral += 2 * F(a + (i * (b - a) / n))\n",
    "    return integral * h"
   ]
  },
  {
   "cell_type": "markdown",
   "metadata": {},
   "source": [
    "# Exercícios "
   ]
  },
  {
   "cell_type": "markdown",
   "metadata": {},
   "source": [
    "<hr>\n",
    "\n",
    "## Encontre a aproximação polinomial por Mínimos Quadrados para \n",
    "\n",
    "$$f(x) = \\frac{1}{x}$$ \n",
    "\n",
    "no intervalo $x \\in [1,3]$ utilizando um polinômio de grau 3.\n",
    "<hr>"
   ]
  },
  {
   "cell_type": "markdown",
   "metadata": {},
   "source": [
    "### Resolvendo:\n",
    "Vamos utilizar intervalos de 0,4 para calcular $f(x)$, sendo assim, teremos a seguinte tabela\n",
    "\n",
    "|  x  |   f(x)  |  f(x) |\n",
    "|:---:|:-------:|:-----:|\n",
    "|  1  |    1    |   1   |\n",
    "| 1,4 | 0,71428 |   5/7 |\n",
    "| 1,8 | 0,55555 |   5/9 |\n",
    "| 2,2 | 0,45454 |   4/9 |\n",
    "| 2,6 | 0,38461 |   3/8 |\n",
    "|  3  | 0,33333 |   1/3 |\n",
    "\n",
    "Utilizando o Método dos Mínimos Quadrados teremos que o polinômio de grau 3 que representa o gráfico será:\n",
    "\\begin{align}\n",
    "\\sum{y} &= an + b \\sum{x} + c\\sum{x^2}+ d\\sum{x^3}\\\\\n",
    "\\sum{xy} &= a\\sum{x} + b \\sum{x^2} + c\\sum{x^3}+ d\\sum{x^4}\\\\\n",
    "\\sum{x^{2}y} &= a\\sum{x^2} + b \\sum{x^3} + c\\sum{x^4}+ d\\sum{x^5}\\\\\n",
    "\\sum{x^{3}y} &= a\\sum{x^3} + b \\sum{x^4} + c\\sum{x^5}+ d\\sum{x^6}\n",
    "\\end{align}\n",
    "\n",
    "Utilizando uma planilha temos a seguinte tabela:\n",
    "\n",
    "| $x$   | $f(x)$              | $f(x)$  | $x^2$  | $x^3$    | $x^4$      | $x^5$       | $x^6$        | $xy$ | $x^2y$ | $x^3y$ |\n",
    "|-----|-------------------|-------|------|--------|----------|-----------|------------|-----|-------|-------|\n",
    "| 1   | 1                 | 1     | 1    | 1      | 1        | 1         | 1          | 1   | 1     | 1     |\n",
    "| 1,4 | 0,714285714285714 |  5/7  | 1,96 | 2,744  | 3,8416   | 5,37824   | 7,529536   | 1   | 1,4   | 1,96  |\n",
    "| 1,8 | 0,555555555555556 |  5/9  | 3,24 | 5,832  | 10,4976  | 18,89568  | 34,012224  | 1   | 1,8   | 3,24  |\n",
    "| 2,2 | 0,454545454545455 |  4/9  | 4,84 | 10,648 | 23,4256  | 51,53632  | 113,379904 | 1   | 2,2   | 4,84  |\n",
    "| 2,6 | 0,384615384615385 |  3/8  | 6,76 | 17,576 | 45,6976  | 118,81376 | 308,915776 | 1   | 2,6   | 6,76  |\n",
    "| 3   | 0,333333333333333 |  1/3  | 9    | 27     | 81       | 243       | 729        | 1   | 3     | 9     |\n",
    "|     |                   |       |      |        |          |           |            |     |       |       |\n",
    "| 12  | 3,44233544233544  | 3 4/9 | 26,8 | 64,8   | 165,4624 | 438,624   | 1193,83744 | 6   | 12    | 26,8  |\n",
    "\n",
    "*O último elemento corresponde ao somatório do dado em questão.*\n",
    "\n",
    "Substituindo os valores na equação temos:\n",
    "\n",
    "\\begin{align}\n",
    "6x_1+12x_2+26.8x_3+64.8x_4&=3.4423\\\\\n",
    "12x_1+26.8x_2+64.8x_3+165.4624x_4&=6\\\\\n",
    "26.8x_1+64.8x_2+165.4624x_3+438.624x_4&=12\\\\\n",
    "64.8x_1+165.4624x_2+438.624x_3+1193.8374x_4&=26.8\n",
    "\\end{align}"
   ]
  },
  {
   "cell_type": "markdown",
   "metadata": {},
   "source": [
    "**Passo a passo para resolver a equação**\n",
    "\n",
    "$$ A = \\left[ \\begin{matrix} 6 & 12 & 26.8 & 64.8 \\\\ 12 & 26.8 & 64.8 & 165.4624 \\\\ 26.8 & 64.8 & 165.4624 & 438.624 \\\\ 64.8 & 165.462 & 438.624 & 1193.8374 \\end{matrix} \\right] \\\\ \n",
    "B = \\left[ \\begin{matrix} 3.4423\\\\6\\\\12\\\\26.8 \\end{matrix}\\right]$$ \n",
    "$A = B$\n",
    "\n",
    "Utilizando o método de Gauss para resolver, temos:\n",
    "\n",
    "$$\\left[ \\begin{matrix}     6\t    &    12\t &    \\frac{134}{5}\t &      \\frac{324}{5} &\t\\frac{34423}{10000}\\\\\n",
    "   12\t &    \\frac{134}{5}\t  &   \\frac{324}{5}\t & \\frac{103414}{625}\t    &      6\\\\\n",
    "\\frac{134}{5}\t &    \\frac{324}{5}\t& \\frac{103414}{625}\t&   \\frac{54828}{125}\t &        12\\\\\n",
    "\\frac{324}{5}\t & \\frac{10341}{625}\t& \\frac{54828}{125}\t&\\frac{5969187}{5000}\t &     \\frac{134}{5}\n",
    "\\end{matrix} \\right]$$\n",
    "\n",
    "$L_2 = L_2 * -2L_1\\\\L_3 = L_3 * -\\frac{67}{15}L_1\\\\L_4 = L_4* -\\frac{54}{5}L_1$\n",
    "\n",
    "$$\\left[ \\begin{matrix}\n",
    "6 &        12 &      \\frac{134}{5} &       \\frac{324}{5} &    \\frac{34423}{10000} \\\\\n",
    "0 &      \\frac{14}{5} &       \\frac{56}{5} &    \\frac{22414}{625} &     \\frac{-4423}{5000} \\\\\n",
    "0 &      \\frac{56}{5} & \\frac{85792}{1875} &    \\frac{18648}{125} & \\frac{-506341}{150000} \\\\\n",
    "0 & \\frac{22414}{625} &  \\frac{18648}{125} & \\frac{2469987}{5000} &  \\frac{-259421}{25000} \n",
    "\\end{matrix}\\right]$$\n",
    "\n",
    "$L_3 = L_3 * -4L_2\\\\L_4 = L_4* -\\frac{1601}{125}L_2$\n",
    "$$\\left[ \\begin{matrix}\n",
    "6&  12&    \\frac{134}{5}&          \\frac{324}{5}&  \\frac{34423}{10000} \\\\\n",
    "0&\\frac{14}{5}&     \\frac{56}{5}&      \\frac{22414}{625}&   \\frac{-4423}{5000} \\\\\n",
    "0&   0&\\frac{1792}{1875}&       \\frac{3584}{625}& \\frac{24419}{150000} \\\\\n",
    "0&   0& \\frac{3584}{625}&\\frac{21669863}{625000}&\\frac{297849}{312500} \\\\\n",
    "\\end{matrix}\\right]$$\n",
    "\n",
    "$$L_4 = L_4 * -6L_3->\\left[ \\begin{matrix}\n",
    "6&  12&    \\frac{134}{5} &        \\frac{324}{5} &  \\frac{34423}{10000}\\\\\n",
    "0&\\frac{14}{5} &     \\frac{56}{5} &    \\frac{22414}{625} &   \\frac{-4423}{5000}\\\\\n",
    "0&   0&\\frac{1792}{1875} &     \\frac{3584}{625} & \\frac{24419}{150000}\\\\\n",
    "0&   0&        0&\\frac{165863}{625000}&\\frac{-14777}{625000}\n",
    "\\end{matrix}\\right]$$\n"
   ]
  },
  {
   "cell_type": "markdown",
   "metadata": {},
   "source": [
    "Com isso já podemos resolver, agora resolvendo $x_4$ até $x_1$ temos:\n",
    "\n",
    "\\begin{equation}\n",
    "\\frac{165863}{625000}*x_4=\\frac{-14777}{625000}\\\\\n",
    "x_4=-\\frac{14777}{165863}\\\\\n",
    "\\end{equation}\n",
    "\n",
    "\\begin{equation}\n",
    "\\frac{1792}{1875}x_3=\\frac{24419}{150000}-\\frac{3584}{625}x_4=\\\\\\frac{24419}{150000}-\\frac{3584}{625}-\\frac{14777}{165863}=\\frac{16760792917}{24879450000}\\\\\n",
    "x_3=\\frac{16760792917}{23778119680}\n",
    "\\end{equation}\n",
    "\n",
    "\\begin{equation}\n",
    "\\frac{14}{5}x_2=-\\frac{4423}{5000}-\\frac{56}{5}x_3-\\frac{22414}{625}x_4=-\\frac{4423}{5000}-\\frac{56}{5}(\\frac{16760792917}{23778119680})-\\frac{22414}{625}(\\frac{-14777}{165863})\\\\\n",
    "x_2 = \\frac{-11855624597}{2123046400}\n",
    "\\end{equation}\n",
    "\n",
    "\\begin{align}\n",
    "6x_1&=\\frac{34423}{10000}-12x_2-\\frac{134}{5}x_3-\\frac{324}{5}x_4\\\\\n",
    "&=\\frac{34423}{10000}-12(-\\frac{11855624597}{5944529920})-\\frac{134}{5}*\\frac{16760792917}{23778119680}-\\frac{324}{5}*(-\\frac{14777}{165863})\\\\\n",
    "&= \\frac{21187903906929}{1486132480000}\\\\\n",
    "x_1&=\\frac{7062634635643}{2972264960000}\n",
    "\\end{align}\n",
    "\n",
    "Utilizando python para resolver temos as frações, temos:"
   ]
  },
  {
   "cell_type": "code",
   "execution_count": 3,
   "metadata": {},
   "outputs": [
    {
     "name": "stdout",
     "output_type": "stream",
     "text": [
      "P_3(x) = 2.37618 + -1.99438x + 0.70488x^2 + -0.08909x^3\n"
     ]
    }
   ],
   "source": [
    "x1 = 7062634635643 / 2972264960000\n",
    "x2 = -11855624597 / 5944529920\n",
    "x3 = 16760792917 / 23778119680\n",
    "x4 = -14777 / 165863\n",
    "print('P_3(x) = {:.5f} + {:.5f}x + {:.5f}x^2 + {:.5f}x^3'.format(\n",
    "    x1, x2, x3, x4))"
   ]
  },
  {
   "cell_type": "markdown",
   "metadata": {},
   "source": [
    "Tudo isso pode também pode ser feito utilizando **linalg**"
   ]
  },
  {
   "cell_type": "code",
   "execution_count": 4,
   "metadata": {},
   "outputs": [
    {
     "data": {
      "text/plain": [
       "array([ 2.37617936, -1.99437546,  0.70488302, -0.0890916 ])"
      ]
     },
     "execution_count": 4,
     "metadata": {},
     "output_type": "execute_result"
    }
   ],
   "source": [
    "# utilizando python para resolver (bem mais simples, não?)\n",
    "A = np.array([[6, 12, 26.8, 64.8], [12, 26.8, 64.8, 165.4624],\n",
    "              [26.8, 64.8, 165.4624, 438.624],\n",
    "              [64.8, 165.4624, 438.624, 1193.8374]])\n",
    "B = np.array([3.4423, 6, 12, 26.8])\n",
    "x = np.linalg.inv(A).dot(B)  # não é o mesmo método do passo a passo\n",
    "# calcula o inverso de A e faz o produto de A^{-1} e B.\n",
    "# retorna o formato do polinômio (a + bx + cx^2 + dx^3)\n",
    "x"
   ]
  },
  {
   "cell_type": "code",
   "execution_count": 5,
   "metadata": {},
   "outputs": [
    {
     "data": {
      "text/plain": [
       "array([ 2.37617936, -1.99437546,  0.70488302, -0.0890916 ])"
      ]
     },
     "execution_count": 5,
     "metadata": {},
     "output_type": "execute_result"
    }
   ],
   "source": [
    "np.linalg.solve(A, B)  # faz o mesmo porem escolhe automaticamente o método."
   ]
  },
  {
   "cell_type": "markdown",
   "metadata": {},
   "source": [
    "Portanto, o polinômio de grau 3 pelo método dos mínimos quadrados que representa a função com os dados utilizados é:\n",
    "$$ P_3(x) = 2.37617936 -1.99437546x +  0.70488302x^2 -0.0890916x^3 $$"
   ]
  },
  {
   "cell_type": "markdown",
   "metadata": {},
   "source": [
    "<hr>\n",
    "\n",
    "## Calcule uma aproximação para a integral de\n",
    "\n",
    "$$ \\int_{1}^{3}\\frac{1}{x}dx$$\n",
    "\n",
    "através da\n",
    "\n",
    "(a) [0,5] Regra dos Trapézios.\n",
    "\n",
    "(b) [0,5] Regra dos Simpson.\n",
    "\n",
    "(c) [0,5] Integral da aproximação cúbica da questão anterior.\n",
    "\n",
    "(d) [0,5] Quadratura Gaussiana com 2 pontos.\n",
    "\n",
    "(e) [0,5] Compare os resultados com o valor da integral.\n",
    "<hr>"
   ]
  },
  {
   "cell_type": "code",
   "execution_count": 6,
   "metadata": {},
   "outputs": [],
   "source": [
    "def f(x):  # função da questão 2\n",
    "    return 1 / x"
   ]
  },
  {
   "cell_type": "markdown",
   "metadata": {},
   "source": [
    "### Resolvendo:\n"
   ]
  },
  {
   "cell_type": "markdown",
   "metadata": {},
   "source": [
    "Integração Trapezoidal:\n",
    "\\begin{align}\n",
    "\\int_{1}^{3}f(x)dx &= \\frac{F(1)+F(3)}{2}(3-1) = \\frac{\\frac{1}{1}+\\frac{1}{3}}{2}(3-1) = \\frac{\\frac{4}{3}}{2}(2) \\\\&= \\frac{4}{3}\n",
    "\\end{align}\n",
    "Temos que a integral é $\\frac{4}{3}$.\n",
    "\n",
    "Integração de Simpson:\n",
    "\\begin{align}\n",
    "\\int_{1}^{3}f(x)dx &= \\left(\\frac{f(a)+4*f(\\frac{a+b}{2})+f(b)}{3}\\right)\\frac{(b-a)}{2} \\\\\n",
    "&= \\left(\\frac{f(1)+4*f(\\frac{1+3}{2})+f(3)}{3}\\right)\\frac{(3-1)}{2} \\\\\n",
    "&= \\left(\\frac{\\frac{1}{1}+4*\\frac{1}{2}+\\frac{1}{3}}{3}\\right)\\frac{(3-1)}{2}\\\\\n",
    "& = \\frac{10}{9}\n",
    "\\end{align}\n",
    "Utiliando implementação já feita anteriormente - ver imports - e utilizando-as, temos:"
   ]
  },
  {
   "cell_type": "code",
   "execution_count": 7,
   "metadata": {},
   "outputs": [
    {
     "name": "stdout",
     "output_type": "stream",
     "text": [
      "A) Integração trapezoidal simples: 1.33333\n",
      "A) Integração trapezoidal com n = 5: 1.11027\n",
      "B) Integração de Simpson simples: 1.11111\n",
      "B) Integração de Simpson com n = 5: 1.05187\n"
     ]
    }
   ],
   "source": [
    "print(\"A) Integração trapezoidal simples: {:.5f}\".format(\n",
    "    int_trapezios_simples(f, 1, 3)))\n",
    "print(\"A) Integração trapezoidal com n = 5: {:.5f}\".format(\n",
    "    int_trapezios(f, 1, 3, 5)))\n",
    "print(\"B) Integração de Simpson simples: {:.5f}\".format(int_simpson(\n",
    "    f, 1, 3, 2)))\n",
    "print(\"B) Integração de Simpson com n = 5: {:.5f}\".format(\n",
    "    int_simpson(f, 1, 3, 5)))"
   ]
  },
  {
   "cell_type": "markdown",
   "metadata": {},
   "source": [
    "Para o item C, temos o polinômio:\n",
    "$$ P_3(x) = 2.37617936 -1.99437546x +  0.70488302x^2 -0.0890916x^3 $$\n",
    "\n",
    "\\begin{align}\n",
    "\\int_{1}^{3}P_3(x)dx = \\int_{1}^{3}(2.37617936 -1.99437546x +  0.70488302x^2 -0.0890916x^3)dx\\\\\n",
    "\\left[2.37617936 -1.99437546\\frac{x^2}{2} +  0.70488302\\frac{x^3}{3} -0.0890916\\frac{x^4}{4}\n",
    "\\right]_{1}^{3} = 1.102011 \n",
    "\\end{align}\n",
    "\n",
    "C) A integral do polinômio $$\\int_{1}^{3}P_3(x) = 1.10201$$"
   ]
  },
  {
   "cell_type": "markdown",
   "metadata": {},
   "source": [
    "item d) Quanto a quadratura\n",
    "A quadratura é dada por:\n",
    "\\begin{equation}\n",
    "\\int_{a}^{b}\\frac{b-a}{2}\\sum_{i}^{n}w_i f\\left(\\frac{b-a}2x_i+\\frac{b+a}{2})\\right)\n",
    "\\end{equation}\n",
    "Com n = 2 temos valores fixos para $x_i = \\frac{\\sqrt(3)}{3}$ e o peso $(w) = 1$. Dessa forma temos que:\n",
    "\\begin{align}\n",
    "\\int_{1}^{3}\\frac{1}{x} &= w_o f\\left(\\frac{3-1}{2}*\\frac{\\sqrt3}{3}+\\frac{3+1}{2}\\right) w_1 f\\left(\\frac{3-1}{2}*\\frac{-\\sqrt3}{3}+\\frac{3+1}{2}\\right)\\\\\n",
    "&=1*\\frac{1}{\\frac{\\sqrt3}{3}+2}+1*\\frac{1}{\\frac{-\\sqrt3}{3}+2} \\\\&= 1,09091\n",
    "\\end{align}\n",
    "\n",
    "Portanto, a integral via Quadratura Gaussiana é $1,09091$."
   ]
  },
  {
   "cell_type": "code",
   "execution_count": 8,
   "metadata": {},
   "outputs": [
    {
     "name": "stdout",
     "output_type": "stream",
     "text": [
      "d) Integração por Quadratura Gaussiana com n = 2: 1.09091\n",
      "Integração por Quadratura Gaussiana com n = 5: 1.09861\n"
     ]
    }
   ],
   "source": [
    "# Item D por código\n",
    "a, b = 1, 3\n",
    "result, err = sp.integrate.fixed_quad(f, a, b, n=2)\n",
    "print(\n",
    "    'd) Integração por Quadratura Gaussiana com n = 2: {:.5f}'.format(result))\n",
    "result, err = sp.integrate.fixed_quad(f, a, b, n=5)\n",
    "print('Integração por Quadratura Gaussiana com n = 5: {:.5f}'.format(result))"
   ]
  },
  {
   "cell_type": "markdown",
   "metadata": {},
   "source": [
    "e) O método de Integração da Quadratura de Gauss foi o que mais se aproximou do valor real de integração. Seguido pela aproximação cúbica, em seguida o método de Simpson. O pior método foi trapezoidal."
   ]
  },
  {
   "cell_type": "markdown",
   "metadata": {},
   "source": [
    "<hr>\n",
    "\n",
    "## Considere a seguinte tabela de dados obtida ao calcular o valor de função $f(x)$ no intervalo $[0,1]$.\n",
    "\n",
    "<center>Tabela 1: Dados</center>\n",
    "\n",
    "| x    | f(x)      |\n",
    "| :--: | :-------: |\n",
    "| 0\\.0 | 1\\.000000 |\n",
    "| 0\\.1 | 0\\.999950 |\n",
    "| 0\\.2 | 0\\.999200 |\n",
    "| 0\\.3 | 0\\.995953 |\n",
    "| 0\\.4 | 0\\.987227 |\n",
    "| 0\\.5 | 0\\.968912 |\n",
    "| 0\\.6 | 0\\.935897 |\n",
    "| 0\\.7 | 0\\.882333 |\n",
    "| 0\\.8 | 0\\.802096 |\n",
    "| 0\\.9 | 0\\.689498 |\n",
    "| 1\\.0 | 0\\.540302 |\n",
    "\n",
    "Se temos que integrar a função $f$, vamos ser obrigados a utilizar a tabela acima. A vantagem é que os dados estão igualmente espaçados.\n",
    "\n",
    "(a) [0,5] Com os dados originais, utilize a Regra dos Trapézios Repetida para aproximar o valor da integral.\n",
    "\n",
    "(b) [0,5] Com os dados originais, utilize a Regra de Simpson Repetida para aproximar o valor da integral. \n",
    "\n",
    "(c) [1,0] Como não temos a função para calcular as derivadas e obter uma estimativa para o erro, vamos utilizar as diferenças dividas supondo que é\n",
    "\n",
    "$$ \\Delta^{(n)}f(x) \\approx f^{(n)}(x) $$\n",
    "\n",
    "onde $\\Delta^{(n)}f(x)$ representa a diferença dividida de ordem $n$. Utilize a expressãoa cima para determinar estimativas máximas para os erros ao utilizar os métodos de integração dos dois itens anteriores.\n",
    "<hr>"
   ]
  },
  {
   "cell_type": "markdown",
   "metadata": {},
   "source": [
    "#### Gráfico:"
   ]
  },
  {
   "cell_type": "code",
   "execution_count": 9,
   "metadata": {},
   "outputs": [
    {
     "data": {
      "image/png": "[encoded data removed]",
      "text/plain": [
       "<Figure size 432x288 with 1 Axes>"
      ]
     },
     "metadata": {
      "needs_background": "light"
     },
     "output_type": "display_data"
    }
   ],
   "source": [
    "x = np.linspace(0,1,11)\n",
    "y = np.array([1.000000 , 0.999950 , 0.999200 , 0.995953 , 0.987227 , 0.968912 ,\n",
    "                 0.935897 , 0.882333 , 0.802096 , 0.689498 , 0.540302])\n",
    "plt.xlabel('x')\n",
    "plt.ylabel('y')\n",
    "plt.title('Gráfico da função com os dados obtidos')\n",
    "plt.plot(x,y,'o')\n",
    "plt.plot(x,y)\n",
    "plt.show()"
   ]
  },
  {
   "cell_type": "markdown",
   "metadata": {},
   "source": [
    "### Resolvendo:\n",
    "Para o item a), temos o seguinte:\n",
    "Integração pela regra dos trapézios repetida:\n",
    "\n",
    "a) \n",
    "\\begin{equation}\n",
    "\\sum_{i=0}^{n-1}\\frac{h}{2}[f(x_i)+f(x_{i+1})]\n",
    "\\end{equation}\n",
    "Como já temos a tabela só precisamos substitutir os valores:\n",
    "\\begin{align}\n",
    "x = \\frac{0.1}{2}[&1.000000+&0.999950+&0.999200+&0.995953+\\\\&0.987227+&0.968912+&0.935897+&0.882333+\\\\&0.802096+&0.689498+&0.540302]\n",
    "\\end{align}\n",
    "\n",
    "O valor calculado será feito abaixo:"
   ]
  },
  {
   "cell_type": "code",
   "execution_count": 10,
   "metadata": {},
   "outputs": [
    {
     "data": {
      "text/plain": [
       "0.4900684000000001"
      ]
     },
     "execution_count": 10,
     "metadata": {},
     "output_type": "execute_result"
    }
   ],
   "source": [
    "x = (0.1 / 2) * (1.000000 + 0.999950 + 0.999200 + 0.995953 + 0.987227 + 0.968912 +\n",
    "                 0.935897 + 0.882333 + 0.802096 + 0.689498 + 0.540302)\n",
    "x"
   ]
  },
  {
   "cell_type": "markdown",
   "metadata": {},
   "source": [
    "a) Portanto a área é **0.49007**"
   ]
  },
  {
   "cell_type": "markdown",
   "metadata": {},
   "source": [
    "b) Temos que, para o Método de Simpson, a integração é no seguinte formato:\n",
    "\\begin{equation}\n",
    "\\int_{a}^{b}f(x)dx \\approx \\frac{h}{3}\\left[f(x_0)+f(x_m)+2\\sum_{i=1}^{\\frac{m}{2}}f(x_{2i})+4\\sum_{i=1}^{\\frac{m}{2}}f(x_{2i-1})\\right]\n",
    "\\end{equation}\n",
    "Sendo assim, temos que:\n",
    "\n",
    "\\begin{align}\n",
    "x = \\frac{0.1}{3}[&1.000000+&4*0.999950+&2*0.999200+&4*0.995953+\\\\&2*0.987227+&4*0.968912+&2*0.935897+&4*0.882333+\\\\&2*0.802096+&4*0.689498+&0.540302]\n",
    "\\end{align}\n",
    "O valor calculado é feito abaixo:"
   ]
  },
  {
   "cell_type": "code",
   "execution_count": 11,
   "metadata": {},
   "outputs": [
    {
     "data": {
      "text/plain": [
       "0.9045242000000001"
      ]
     },
     "execution_count": 11,
     "metadata": {},
     "output_type": "execute_result"
    }
   ],
   "source": [
    "x = (0.1 / 3) * (1.000000 + 4 * 0.999950 + 2 * 0.999200 + 4 * 0.995953 +\n",
    "                 2 * 0.987227 + 4 * 0.968912 + 2 * 0.935897 + 4 * 0.882333 +\n",
    "                 2 * 0.802096 + 4 * 0.689498 + 0.540302)\n",
    "x"
   ]
  },
  {
   "cell_type": "markdown",
   "metadata": {},
   "source": [
    "b) Portanto a área é **0.90452**"
   ]
  },
  {
   "cell_type": "markdown",
   "metadata": {},
   "source": [
    "c) Com o auxílio de uma planilha foi feito parcialmente o solicitado. Temos a seguinte tabela que o representa:\n",
    "\n",
    "| $x$ |    $y$   |  $n_1$  |  $n_2$  |  $n_3$  |  $n_4$  |  $n_5$ |  $n_6$ |  $n_7$ |  $n_8$  |  $n_9$  |$n_{10}$|\n",
    "|:---:|:--------:|:-------:|:-------:|:-------:|:-------:|:------:|:------:|:------:|:-------:|:-------:|:------:|\n",
    "|  0  |     1    |         |         |         |         |        |        |        |         |         |        |\n",
    "|     |          | -0,0005 |         |         |         |        |        |        |         |         |        |\n",
    "| 0,1 |  0,99995 |         |  -0,35  |         |         |        |        |        |         |         |        |\n",
    "|     |          | -0,0075 |         | -0,2995 |         |        |        |        |         |         |        |\n",
    "| 0,2 |  0,9992  |         | -0,1248 |         | -0,4938 |        |        |        |         |         |        |\n",
    "|     |          | -0,0325 |         |  -0,497 |         | 0,0475 |        |        |         |         |        |\n",
    "| 0,3 | 0,995953 |         |  -0,274 |         |  -0,47  |        | 0,0972 |        |         |         |        |\n",
    "|     |          | -0,0873 |         |  -0,685 |         | 0,1058 |        |  0,131 |         |         |        |\n",
    "| 0,4 | 0,987227 |         | -0,4794 |         | -0,4171 |        | 0,1889 |        |  -0,005 |         |        |\n",
    "|     |          | -0,1831 |         | -0,8518 |         | 0,2192 |        |  0,127 |         | -0,0386 |        |\n",
    "| 0,5 | 0,968912 |         |  -0,735 |         | -0,3075 |        | 0,2778 |        | -0,0397 |         | 0,1047 |\n",
    "|     |          | -0,3302 |         | -0,9748 |         | 0,3858 |        | 0,0952 |         |  0,0661 |        |\n",
    "| 0,6 | 0,935897 |         | -1,0274 |         | -0,1146 |        | 0,3444 |        |  0,0198 |         |        |\n",
    "|     |          | -0,5356 |         | -1,0207 |         | 0,5925 |        | 0,1111 |         |         |        |\n",
    "| 0,7 | 0,882333 |         | -1,3336 |         |  0,1817 |        | 0,4222 |        |         |         |        |\n",
    "|     |          | -0,8024 |         |  -0,948 |         | 0,8458 |        |        |         |         |        |\n",
    "| 0,8 | 0,802096 |         | -1,6181 |         |  0,6046 |        |        |        |         |         |        |\n",
    "|     |          |  -1,126 |         | -0,7062 |         |        |        |        |         |         |        |\n",
    "| 0,9 | 0,689498 |         | -1,8299 |         |         |        |        |        |         |         |        |\n",
    "|     |          |  -1,492 |         |         |         |        |        |        |         |         |        |\n",
    "|  1  | 0,540302 |         |         |         |         |        |        |        |         |         |        |\n",
    "\n",
    "Para facilitar e agilizar o solicitado, será utilizado uma implementação já existente. Segue abaixo:"
   ]
  },
  {
   "cell_type": "code",
   "execution_count": 12,
   "metadata": {},
   "outputs": [],
   "source": [
    "def coef(x, y):\n",
    "    # https://pt.coredump.biz/questions/14823891/newtons-interpolating-polynomial-python\n",
    "    #  x : array of data points\n",
    "    #   y : array of f(x)\n",
    "    x.astype(float)\n",
    "    y.astype(float)\n",
    "    n = len(x)\n",
    "    a = []\n",
    "    for i in range(n):\n",
    "        a.append(y[i])\n",
    "    for j in range(1, n):\n",
    "        for i in range(n - 1, j - 1, -1):\n",
    "            a[i] = float(a[i] - a[i - 1]) / float(x[i] - x[i - j])\n",
    "    return np.array(a)  # return an array of coefficient\n",
    "\n",
    "\n",
    "def Eval(a, x, r):\n",
    "    # a : array returned by function coef()\n",
    "    # x : array of data points\n",
    "    # r : the node to interpolate at\n",
    "    x.astype(float)\n",
    "    n = len(a) - 1\n",
    "    temp = a[n] + (r - x[n])\n",
    "    for i in range(n - 1, -1, -1):\n",
    "        temp = temp * (r - x[i]) + a[i]\n",
    "    return temp  # return the y_value interpolation"
   ]
  },
  {
   "cell_type": "code",
   "execution_count": 13,
   "metadata": {},
   "outputs": [
    {
     "name": "stdout",
     "output_type": "stream",
     "text": [
      "x_i \t= [0.  0.9]\n",
      "f(x) \t= [1.       0.689498]\n",
      "\n"
     ]
    },
    {
     "data": {
      "text/plain": [
       "array([ 1.        , -0.34500222])"
      ]
     },
     "execution_count": 13,
     "metadata": {},
     "output_type": "execute_result"
    }
   ],
   "source": [
    "x = np.linspace(0, 1, 11)\n",
    "y = np.array([\n",
    "    1.000000, 0.999950, 0.999200, 0.995953, 0.987227, 0.968912, 0.935897,\n",
    "    0.882333, 0.802096, 0.689498, 0.540302\n",
    "])\n",
    "print('x_i \\t= {}\\nf(x) \\t= {}\\n'.format(x[:10:9], y[:10:9]))\n",
    "a = coef(x[:10:9], y[:10:9])  # o melhor método seria utilizar todos os dados\n",
    "a"
   ]
  },
  {
   "cell_type": "markdown",
   "metadata": {},
   "source": [
    "Portanto, o polinômio que aproxima os valores é $1 - 0.34500x$\n",
    "Integrando-o temos:\n",
    "$$\\int_{1}^{3}1 - 0.34500xdx = \\left[x-0.34500\\frac{x^2}{2}\\right]_{1}^{3} = \\frac{31}{50} = 0.62\n",
    "$$"
   ]
  },
  {
   "cell_type": "markdown",
   "metadata": {},
   "source": [
    "<hr>\n",
    "\n",
    "## Em Probabilidade e Estatística a Distribuição Normal de Probabilidade $N(\\mu,\\sigma)$ é uma das mais utilizadas para modelar problemas de cunho probabilístico. No caso da distribuição normal padrão $N(0,1)$ a <i>função densidade de probabilidade</i> é dada por\n",
    "\n",
    "$$f(x) = \\frac{1}{\\sqrt{2\\pi}}e^{\\frac{-x^2}{2}}.$$\n",
    "\n",
    "Como esta função não possui uma primitiva que possa ser escrita como uma função elementar, o cálculo das probabilidades utiliza uma tabela, visto que\n",
    "\n",
    "$$P(0 \\leq X \\leq z) = \\int_{0}^{z}\\frac{1}{\\sqrt{2\\pi}}e^{\\frac{-x^2}{2}}dx$$\n",
    "\n",
    "onde $X$ tem distribuição $N(0,1)$ e $z\\geq 0$\n",
    "\n",
    "(a) [0,8] Utilize a Regra dos Trapézios repetida, determine o valor de $n$ e do tamanho do passo $h$ tal que a integral\n",
    "\n",
    "$$P(0 \\leq X \\leq z) = \\int_{0}^{1}\\frac{1}{\\sqrt{2\\pi}}e^{\\frac{-x^2}{2}}dx$$\n",
    "\n",
    "seja aproximada com erro menor que $10^{-4}$\n",
    "\n",
    "(b) [0,2] Calcule o valor da integral acima com precisão mínima de $10^{-4}$."
   ]
  },
  {
   "cell_type": "markdown",
   "metadata": {},
   "source": [
    "### Resolvendo"
   ]
  },
  {
   "cell_type": "markdown",
   "metadata": {},
   "source": [
    "$$\\int_{0}^{1}\\frac{1}{\\sqrt{2\\pi}}e^{\\frac{-x^2}{2}}dx = \\frac{1}{\\sqrt{2\\pi}}\\int_0^1e^\\frac{-x^2}{2}dx$$."
   ]
  },
  {
   "cell_type": "code",
   "execution_count": 14,
   "metadata": {},
   "outputs": [],
   "source": [
    "def f(x):\n",
    "    return 1 / (np.sqrt(2 * np.pi)) * np.exp(-(x**2) / 2)\n",
    "\n",
    "\n",
    "def f_dev2(x):\n",
    "    return (((x**2) - 1) * np.exp(-(x**2) / 2)) / np.sqrt(2 * np.pi)\n",
    "\n",
    "\n",
    "def maximo(f, a, b, n):  # retorna o máximo de uma função no limite informado\n",
    "    m = np.abs(f(a))\n",
    "    for i in np.linspace(a, b, n):\n",
    "        if m < f(a + i):\n",
    "            m = f(a + i)\n",
    "    return np.abs(m)\n",
    "\n",
    "\n",
    "def etr(f, a, b, n, err):  # retorna o n para erro ser menor que o passado\n",
    "    l = np.sqrt((((b - a)**3) / (12 * err)) * maximo(f, a, b, n))\n",
    "    return l"
   ]
  },
  {
   "cell_type": "code",
   "execution_count": 15,
   "metadata": {},
   "outputs": [
    {
     "name": "stdout",
     "output_type": "stream",
     "text": [
      "a) n mínimo para o erro ser maior que o proposto: 19\n"
     ]
    }
   ],
   "source": [
    "# item A inclui o input acima, assim como o item B\n",
    "print('a) n mínimo para o erro ser maior que o proposto: {}'.format(\n",
    "    math.ceil(etr(f_dev2, 0, 1, 50, 1e-4))))\n",
    "n = math.ceil(etr(f_dev2, 0, 1, 50, 1e-4))  # arrendonda para um inteiro acima."
   ]
  },
  {
   "cell_type": "markdown",
   "metadata": {},
   "source": [
    "Note que, por mais que seja feito via código, o limite superior e inferior não são subdivididos, ou seja, neste caso não tem um intervalo entre eles, portanto substituindo $x$ em $f^{(2)}(x)$ nós temos, para $x = 0$, um valor menor que $0$,e para $1$, $0$. Substituindo na fórmula para encontrar o $n_{mínimo}$, temos:\n",
    "\n",
    "\\begin{align} n &> \\sqrt{\\frac{{(b-a)}^3}{12*|err|}*max_{x\\in[a,b]}|f^{(2)}(x)|}\\text{  , err = mínimo para o erro desejado}\\\\\n",
    "n &> \\sqrt{\\frac{1^2}{12*10^{-4}}*max|f^{(2)}(x)|} > 18\\\\\n",
    "n &\\geq 19\n",
    "\\end{align}"
   ]
  },
  {
   "cell_type": "code",
   "execution_count": 16,
   "metadata": {},
   "outputs": [
    {
     "data": {
      "text/plain": [
       "0.34129"
      ]
     },
     "execution_count": 16,
     "metadata": {},
     "output_type": "execute_result"
    }
   ],
   "source": [
    "# item B\n",
    "round(int_trapezios(f, 0, 1, n), 5)"
   ]
  },
  {
   "cell_type": "markdown",
   "metadata": {},
   "source": [
    "O valor encontrado baseado no erro recomendado atende ao item B."
   ]
  }
 ],
 "metadata": {
  "ipub": {
   "titlepage": {
    "author": "Gabriel Brito Melandes",
    "email": "gbmelandes@gmail.com",
    "language": "brazilian",
    "subtitle": "Avaliação 3_2: Discursiva",
    "title": "Cálculo Numérico"
   }
  },
  "kernelspec": {
   "display_name": "Python 3",
   "language": "python",
   "name": "python3"
  },
  "language_info": {
   "codemirror_mode": {
    "name": "ipython",
    "version": 3
   },
   "file_extension": ".py",
   "mimetype": "text/x-python",
   "name": "python",
   "nbconvert_exporter": "python",
   "pygments_lexer": "ipython3",
   "version": "3.8.5"
  }
 },
 "nbformat": 4,
 "nbformat_minor": 4
}
