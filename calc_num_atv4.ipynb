{
 "cells": [
  {
   "cell_type": "markdown",
   "metadata": {},
   "source": [
    "<center><h1>Cálculo Numérico</h1>\n",
    "    <h2>Lista de Exercícios 04: Eliminação de Gauss</h2>\n",
    "    <hr>\n",
    "        <p>Aluno: Gabriel Brito Melandes\n",
    "        <p>Curso: Ciência da Computação\n",
    "        <p>Matricula: 171057600079\n",
    "    </center>"
   ]
  },
  {
   "cell_type": "markdown",
   "metadata": {},
   "source": [
    "<h3>Imports</h3>"
   ]
  },
  {
   "cell_type": "code",
   "execution_count": 1,
   "metadata": {},
   "outputs": [],
   "source": [
    "import numpy as np"
   ]
  },
  {
   "cell_type": "markdown",
   "metadata": {},
   "source": [
    "<h3>Funções</h3>"
   ]
  },
  {
   "cell_type": "code",
   "execution_count": null,
   "metadata": {},
   "outputs": [],
   "source": []
  },
  {
   "cell_type": "markdown",
   "metadata": {},
   "source": [
    "<h3>Exercícios</h3><hr><b>4.1.1.</b><br>\n",
    "Resolva o seguinte sistema de equações lineares\n",
    "\n",
    "\\begin{align}\n",
    "    x + y + z &= 0\\\\\n",
    "    x + 10z &= −48\\\\\n",
    "    10y + z &= 25\n",
    "\\end{align}\n",
    "\n",
    "Usando eliminação gaussiana com pivotamento parcial (não use o computador para\n",
    "resolver essa questão).\n"
   ]
  },
  {
   "cell_type": "code",
   "execution_count": null,
   "metadata": {},
   "outputs": [],
   "source": []
  },
  {
   "cell_type": "markdown",
   "metadata": {},
   "source": [
    "<hr><b>4.1.2.</b><br>\n",
    "Resolva o seguinte sistema de equações lineares\n",
    "\\begin{align}\n",
    "    x + y + z &= 0\\\\\n",
    "    x + 10z &= −48\\\\\n",
    "    10y + z &= 25\n",
    "\\end{align}\n",
    "Usando eliminação gaussiana com pivotamento parcial (não use o computador para\n",
    "resolver essa questão)."
   ]
  },
  {
   "cell_type": "code",
   "execution_count": null,
   "metadata": {},
   "outputs": [],
   "source": []
  },
  {
   "cell_type": "markdown",
   "metadata": {},
   "source": [
    "<hr><b>4.1.3.</b><br> \n",
    "Calcule a inversa da matriz\n",
    "$$A = \\begin{bmatrix} 1 & 2 & -1 \\\\ -1 & 2 & 0 \\\\ 2 & 1 & -1 \\end{bmatrix}$$\n",
    "\n",
    "usando eliminação gaussiana com pivotamento parcial."
   ]
  },
  {
   "cell_type": "code",
   "execution_count": null,
   "metadata": {},
   "outputs": [],
   "source": []
  },
  {
   "cell_type": "markdown",
   "metadata": {},
   "source": [
    "<hr><b>4.1.4.</b><br>\n",
    "Demonstre que se $ad \\ne bc$, então a matriz A dada por:\n",
    "\n",
    "$$A = \\begin{bmatrix} a & b \\\\ c & d\\end{bmatrix}$$\n",
    "\n",
    "é inversível e sua inversa é dada por:\n",
    "\n",
    "$$A^{-1} = \\frac{1}{ad - bc}  \\begin{bmatrix} d & -b \\\\ -c & a\\end{bmatrix}$$"
   ]
  },
  {
   "cell_type": "code",
   "execution_count": null,
   "metadata": {},
   "outputs": [],
   "source": []
  }
 ],
 "metadata": {
  "kernelspec": {
   "display_name": "Python 3",
   "language": "python",
   "name": "python3"
  },
  "language_info": {
   "codemirror_mode": {
    "name": "ipython",
    "version": 3
   },
   "file_extension": ".py",
   "mimetype": "text/x-python",
   "name": "python",
   "nbconvert_exporter": "python",
   "pygments_lexer": "ipython3",
   "version": "3.8.5"
  }
 },
 "nbformat": 4,
 "nbformat_minor": 4
}
