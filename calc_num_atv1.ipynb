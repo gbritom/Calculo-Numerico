{
 "cells": [
  {
   "cell_type": "markdown",
   "metadata": {},
   "source": [
    "<h4>Função de erros"
   ]
  },
  {
   "cell_type": "code",
   "execution_count": 1,
   "metadata": {},
   "outputs": [],
   "source": [
    "def erro_absoluto(a, b):\n",
    "    valor = a - b\n",
    "    if valor < 0:\n",
    "        valor = valor*-1\n",
    "    return round(valor,32)"
   ]
  },
  {
   "cell_type": "code",
   "execution_count": 2,
   "metadata": {},
   "outputs": [],
   "source": [
    "def erro_relativo(a, b):\n",
    "    return round(erro_absoluto(a,b)/a,32)"
   ]
  },
  {
   "cell_type": "code",
   "execution_count": 3,
   "metadata": {},
   "outputs": [],
   "source": [
    "def print_erro(a,b):\n",
    "    print(\"Erro absoluto: {:3.2e}\".format(erro_absoluto(a, b)))\n",
    "    print(\"\\t em porcentagem: {:3.2e}%\".format(erro_absoluto(a, b)*100))\n",
    "    print(\"Erro relativo: {:3.2e}\".format(erro_relativo(a, b)))\n",
    "    print(\"\\t em porcentagem: {:3.2e}%\".format(erro_relativo(a, b)*100))"
   ]
  },
  {
   "cell_type": "markdown",
   "metadata": {},
   "source": [
    "<h1>Exercicios</h1>\n",
    "<h3>2.5.1</h3>\n",
    "<h4>Calcule os erros absoluto e relativo das aproximações x_aprox para x em\n",
    "cada caso:</h4>\n",
    "a) x = π = 3,14159265358979 . . . e x_aprox = 3,141\n",
    "\n",
    "b) x = 1,00001 e x_aprox = 1\n",
    "\n",
    "c) x = 100001 e x_aprox = 100000"
   ]
  },
  {
   "cell_type": "markdown",
   "metadata": {},
   "source": [
    "<h5>Saidas"
   ]
  },
  {
   "cell_type": "code",
   "execution_count": 4,
   "metadata": {},
   "outputs": [
    {
     "name": "stdout",
     "output_type": "stream",
     "text": [
      "Erro absoluto: 5.93e-04\n",
      "\t em porcentagem: 5.93e-02%\n",
      "Erro relativo: 1.89e-04\n",
      "\t em porcentagem: 1.89e-02%\n"
     ]
    }
   ],
   "source": [
    "print_erro(3.14159265358979, 3.141)"
   ]
  },
  {
   "cell_type": "code",
   "execution_count": 5,
   "metadata": {},
   "outputs": [
    {
     "name": "stdout",
     "output_type": "stream",
     "text": [
      "Erro absoluto: 1.00e-05\n",
      "\t em porcentagem: 1.00e-03%\n",
      "Erro relativo: 1.00e-05\n",
      "\t em porcentagem: 1.00e-03%\n"
     ]
    }
   ],
   "source": [
    "print_erro(1.00001, 1)"
   ]
  },
  {
   "cell_type": "code",
   "execution_count": 6,
   "metadata": {},
   "outputs": [
    {
     "name": "stdout",
     "output_type": "stream",
     "text": [
      "Erro absoluto: 1.00e+00\n",
      "\t em porcentagem: 1.00e+02%\n",
      "Erro relativo: 1.00e-05\n",
      "\t em porcentagem: 1.00e-03%\n"
     ]
    }
   ],
   "source": [
    "print_erro(100001, 100000)"
   ]
  },
  {
   "cell_type": "markdown",
   "metadata": {},
   "source": [
    "<h3>2.5.2</h3>\n",
    "<h4>Arredonde os seguintes números para cinco algarismos significativos:</h4>\n",
    "a) 1,7888544\n",
    "\n",
    "b) 1788,8544\n",
    "\n",
    "c) 0,0017888544\n",
    "\n",
    "d) 0,004596632\n",
    "\n",
    "e) 2,1754999 × 10^−10\n",
    "\n",
    "f) 2,1754999 × 10^10"
   ]
  },
  {
   "cell_type": "markdown",
   "metadata": {},
   "source": [
    "<h5>Saidas"
   ]
  },
  {
   "cell_type": "code",
   "execution_count": 7,
   "metadata": {},
   "outputs": [
    {
     "name": "stdout",
     "output_type": "stream",
     "text": [
      "1.7889\n"
     ]
    }
   ],
   "source": [
    "print(\"%1.4f\" % 1.7888544) #item A, round por print"
   ]
  },
  {
   "cell_type": "code",
   "execution_count": 8,
   "metadata": {},
   "outputs": [
    {
     "data": {
      "text/plain": [
       "1.7889"
      ]
     },
     "execution_count": 8,
     "metadata": {},
     "output_type": "execute_result"
    }
   ],
   "source": [
    "round(1.7888544, 4) #item A, round por função"
   ]
  },
  {
   "cell_type": "code",
   "execution_count": 9,
   "metadata": {},
   "outputs": [
    {
     "name": "stdout",
     "output_type": "stream",
     "text": [
      "1788.9\n"
     ]
    }
   ],
   "source": [
    "print('%4.1f' %1788.8544) #item B"
   ]
  },
  {
   "cell_type": "code",
   "execution_count": 10,
   "metadata": {},
   "outputs": [
    {
     "name": "stdout",
     "output_type": "stream",
     "text": [
      "0.0018\n"
     ]
    }
   ],
   "source": [
    "print(\"%.4f\" % 0.0017888544) #item C"
   ]
  },
  {
   "cell_type": "code",
   "execution_count": 11,
   "metadata": {},
   "outputs": [
    {
     "name": "stdout",
     "output_type": "stream",
     "text": [
      "0.0046\n"
     ]
    }
   ],
   "source": [
    "print(\"%.4f\" % 0.004596632) #item D"
   ]
  },
  {
   "cell_type": "code",
   "execution_count": 12,
   "metadata": {},
   "outputs": [
    {
     "name": "stdout",
     "output_type": "stream",
     "text": [
      "2.1755e-10 \n"
     ]
    }
   ],
   "source": [
    "print(\"%1.4e \"%(2.1754999 * 10 ** -10)) #item E"
   ]
  },
  {
   "cell_type": "code",
   "execution_count": 13,
   "metadata": {},
   "outputs": [
    {
     "name": "stdout",
     "output_type": "stream",
     "text": [
      "2.1755e+10 \n"
     ]
    }
   ],
   "source": [
    "print(\"%1.4e \"%(2.1754999 * 10 ** 10)) #item F"
   ]
  },
  {
   "cell_type": "markdown",
   "metadata": {},
   "source": [
    "<h3>2.5.4</h3>\n",
    "<h4>Usando a Definição 2.5.2, verifique quantos são os dígitos significativos corretos na aproximação de x por x_aprox.</h4>\n",
    "\n",
    "a) x = 2,5834 e x_aprox = 2,6\n",
    "\n",
    "b) x = 100 e x_aprox = 99\n"
   ]
  },
  {
   "cell_type": "markdown",
   "metadata": {},
   "source": [
    "<h4>Função Digse"
   ]
  },
  {
   "cell_type": "code",
   "execution_count": 14,
   "metadata": {},
   "outputs": [],
   "source": [
    "import math\n",
    "def digse(a,b):\n",
    "    value = (int(math.log10(erro_relativo(a,b))))\n",
    "    if value < 0:\n",
    "        value = value*-1\n",
    "    return value"
   ]
  },
  {
   "cell_type": "code",
   "execution_count": 15,
   "metadata": {},
   "outputs": [],
   "source": [
    "def dig_sig_correto(a,b):\n",
    "    if erro_relativo(a,b) <= 5*10**-digse(a,b):\n",
    "        print(\"Possui\",digse(a,b),\"digitos significativos corretos\")"
   ]
  },
  {
   "cell_type": "markdown",
   "metadata": {},
   "source": [
    "<h5>Saidas"
   ]
  },
  {
   "cell_type": "code",
   "execution_count": 16,
   "metadata": {},
   "outputs": [
    {
     "name": "stdout",
     "output_type": "stream",
     "text": [
      "Possui 2 digitos significativos corretos\n"
     ]
    }
   ],
   "source": [
    "dig_sig_correto(2.5834, 2.6) #item a"
   ]
  },
  {
   "cell_type": "code",
   "execution_count": 17,
   "metadata": {},
   "outputs": [
    {
     "name": "stdout",
     "output_type": "stream",
     "text": [
      "Possui 2 digitos significativos corretos\n"
     ]
    }
   ],
   "source": [
    "dig_sig_correto(100, 99) #item b"
   ]
  },
  {
   "cell_type": "markdown",
   "metadata": {},
   "source": [
    "<h3>2.5.5</h3>\n",
    "<h4>Resolva a equação 0,1x − 0,01 = 12 usando arredondamento com\n",
    "três dígitos significativos em cada passo e compare com o resultado exato."
   ]
  },
  {
   "cell_type": "markdown",
   "metadata": {},
   "source": [
    "0.1x = 12 + 0.01\n",
    "x = 12.01/0.1"
   ]
  },
  {
   "cell_type": "code",
   "execution_count": 18,
   "metadata": {},
   "outputs": [
    {
     "name": "stdout",
     "output_type": "stream",
     "text": [
      "120.1\n"
     ]
    }
   ],
   "source": [
    "print(12.01/0.1)"
   ]
  },
  {
   "cell_type": "markdown",
   "metadata": {},
   "source": [
    "<h3>2.5.6</h3>\n",
    "<h4>Calcule o erro relativo e absoluto envolvido nas seguintes aproximações e expresse as respostas com três algarismos significativos corretos.</h4>\n",
    "x = 3,1415926535898 e x_aprox = 3,141593\n",
    "\n",
    "x =1/7 e x_aprox = 1,43 × 10^−1\n"
   ]
  },
  {
   "cell_type": "markdown",
   "metadata": {},
   "source": [
    "<h5>Saidas"
   ]
  },
  {
   "cell_type": "code",
   "execution_count": 19,
   "metadata": {},
   "outputs": [],
   "source": [
    "def print_erro(a,b):\n",
    "    print(\"Erro absoluto: {:3.2e}\".format(erro_absoluto(a, b)))\n",
    "    print(\"\\t em porcentagem: {:3.2e}%\".format(erro_absoluto(a, b)*100))\n",
    "    print(\"Erro relativo: {:3.2e}\".format(erro_relativo(a, b)))\n",
    "    print(\"\\t em porcentagem: {:3.2e}%\".format(erro_relativo(a, b)*100))"
   ]
  },
  {
   "cell_type": "code",
   "execution_count": 20,
   "metadata": {},
   "outputs": [
    {
     "name": "stdout",
     "output_type": "stream",
     "text": [
      "Erro absoluto: 3.46e-07\n",
      "\t em porcentagem: 3.46e-05%\n",
      "Erro relativo: 1.10e-07\n",
      "\t em porcentagem: 1.10e-05%\n"
     ]
    }
   ],
   "source": [
    "print_erro(3.141592653589, 3.141593)"
   ]
  },
  {
   "cell_type": "code",
   "execution_count": 21,
   "metadata": {},
   "outputs": [
    {
     "name": "stdout",
     "output_type": "stream",
     "text": [
      "Erro absoluto: 1.43e-04\n",
      "\t em porcentagem: 1.43e-02%\n",
      "Erro relativo: 1.00e-03\n",
      "\t em porcentagem: 1.00e-01%\n"
     ]
    }
   ],
   "source": [
    "print_erro(1/7, 1.43 * 10**-1)"
   ]
  }
 ],
 "metadata": {
  "kernelspec": {
   "display_name": "Python 3",
   "language": "python",
   "name": "python3"
  },
  "language_info": {
   "codemirror_mode": {
    "name": "ipython",
    "version": 3
   },
   "file_extension": ".py",
   "mimetype": "text/x-python",
   "name": "python",
   "nbconvert_exporter": "python",
   "pygments_lexer": "ipython3",
   "version": "3.8.3"
  }
 },
 "nbformat": 4,
 "nbformat_minor": 4
}
