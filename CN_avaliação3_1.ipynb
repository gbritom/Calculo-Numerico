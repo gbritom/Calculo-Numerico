{
 "cells": [
  {
   "cell_type": "markdown",
   "metadata": {},
   "source": [
    "\n",
    "# Avaliação 3_1 - Integração Numérica\n",
    "Autor: Gabriel B. Melandes\n",
    "\n",
    "Curso: Ciência da Computação\n",
    "\n",
    "\n",
    "## Propósito\n",
    "Este <i>notebook</i> é referente a avaliação3_1 da disciplina de Cálculo Numérico."
   ]
  },
  {
   "cell_type": "markdown",
   "metadata": {},
   "source": [
    "## Imports"
   ]
  },
  {
   "cell_type": "code",
   "execution_count": 1,
   "metadata": {},
   "outputs": [],
   "source": [
    "import numpy as np\n",
    "import matplotlib.pyplot as plt"
   ]
  },
  {
   "cell_type": "markdown",
   "metadata": {},
   "source": [
    "<h3>Funções</h3>"
   ]
  },
  {
   "cell_type": "code",
   "execution_count": 2,
   "metadata": {},
   "outputs": [],
   "source": [
    "def int_trapezios_simples(F, a, b):\n",
    "    integral = ((F(a)+F(b))/2)*((b-a)/2)\n",
    "    return integral\n",
    "\n",
    "def int_trapezios(F, a, b, n):  # F = função\n",
    "    h = float(b-a)/n\n",
    "    integral = 0.5*F(a) + 0.5*F(b)\n",
    "    for i in range(1, n):\n",
    "        integral += F(a + i*h)\n",
    "    return integral*h\n",
    "\n",
    "def erro_trapezios(F, a, b, n):  # F = 2ª derivada\n",
    "    error = -(((b - a)**3)/(12*n**2))*F(1)\n",
    "    #print('Erro da regra dos trapézios: {:.3e}'.format(error))\n",
    "    return error"
   ]
  },
  {
   "cell_type": "code",
   "execution_count": 3,
   "metadata": {},
   "outputs": [],
   "source": [
    "def int_simpson(F, a, b, n):  # F = função\n",
    "    h = (b-a)/(3*n)\n",
    "    integral = F(a)+F(b)\n",
    "    for i in range(1, n):\n",
    "        if (i % 2 == 1):\n",
    "            integral += 4*F(a+(i*(b-a)/n))\n",
    "        else:\n",
    "            integral += 2*F(a+(i*(b-a)/n))\n",
    "    return integral*h\n",
    "\n",
    "def erro_simpson(F, a, b, n):  # F = 4ª derivada\n",
    "    error = abs(F(b))*(((b-a)**5)/2880)\n",
    "    return error"
   ]
  },
  {
   "cell_type": "markdown",
   "metadata": {},
   "source": [
    "<b>1.</b>  Para cada uma das integrais abaixo, descreva o erro cometido na Regra dos Trapézios e na Regra de Simpson e calcule uma estimativa máxima para este erro.\n",
    "\n",
    "\\begin{align}\n",
    "\\textrm{(a) }\\int_{0}^{1} e^{-x^2}dx &\\quad \\textrm{(b) }\\int_{0}^{1}\\frac{x^2}{x + 1}dx\n",
    "\\end{align}"
   ]
  },
  {
   "cell_type": "code",
   "execution_count": 4,
   "metadata": {},
   "outputs": [],
   "source": [
    "def F1(x):\n",
    "    return np.exp(-(x**2))\n",
    "\n",
    "def F2(x): \n",
    "    return (x**2)/(x+1)\n",
    "\n",
    "def F1_2nd_deri(x):\n",
    "    return (4*x**2-2)*np.exp(-(x**2))\n",
    "\n",
    "def F1_4th_deri(x):\n",
    "    return (16*x**4-48*x**2+12)*np.exp(-(x**2))\n",
    "\n",
    "def F2_2nd_deri(x):\n",
    "    return 2/(x**3+3*x**2+3*x+1)\n",
    "\n",
    "def F2_4th_deri(x):\n",
    "    return 24/(x**5+5*x**4+10*x**3+10*x**2+5*x+1)"
   ]
  },
  {
   "cell_type": "code",
   "execution_count": 5,
   "metadata": {},
   "outputs": [
    {
     "name": "stdout",
     "output_type": "stream",
     "text": [
      "Área da Função 1 por integração trapezoidal simples:  0.34197\n",
      "\tErro da regra dos trapézios: -6.131e-02.\n",
      "Área da Função 1 por integração de Simpson:  0.74718\n",
      "\tErro da regra de Simpson:  0.00255\n"
     ]
    }
   ],
   "source": [
    "# Questão 1_ItemA\n",
    "print('Área da Função 1 por integração trapezoidal simples: {: .5f}'.format\n",
    "      ((int_trapezios_simples(F1, 0, 1))))\n",
    "print('\\tErro da regra dos trapézios: {: .3e}.'.format\n",
    "      (erro_trapezios(F1_2nd_deri, 0, 1, 1)))\n",
    "print('Área da Função 1 por integração de Simpson: {: .5f}'.format\n",
    "      ((int_simpson(F1, 0, 1, 2))))\n",
    "print('\\tErro da regra de Simpson: {: .5f}'.format\n",
    "      (erro_simpson(F1_4th_deri, 0, 1, 1)))"
   ]
  },
  {
   "cell_type": "code",
   "execution_count": 6,
   "metadata": {},
   "outputs": [
    {
     "name": "stdout",
     "output_type": "stream",
     "text": [
      "Área da Função 2 por integração trapezoidal simples:  0.12500\n",
      "\tErro da regra dos trapézios: -2.083e-02.\n",
      "Área da Função 2 por integração de Simpson:  0.19444\n",
      "\tErro da regra de Simpson:  0.00026\n"
     ]
    }
   ],
   "source": [
    "# Questão 1_ItemB\n",
    "print('Área da Função 2 por integração trapezoidal simples: {: .5f}'.format\n",
    "      ((int_trapezios_simples(F2, 0, 1))))\n",
    "print('\\tErro da regra dos trapézios: {: .3e}.'.format\n",
    "      (erro_trapezios(F2_2nd_deri, 0, 1, 1)))\n",
    "print('Área da Função 2 por integração de Simpson: {: .5f}'.format\n",
    "      ((int_simpson(F2, 0, 1, 2))))\n",
    "print('\\tErro da regra de Simpson: {: .5f}'.format\n",
    "      (erro_simpson(F2_4th_deri, 0, 1, 2)))"
   ]
  },
  {
   "cell_type": "markdown",
   "metadata": {},
   "source": [
    "<hr>\n",
    "<b>2.</b> Considere a seguinte integral $$ \\int_{0}^{2}\\frac{1}{(x-1)^2}dx\\tag{1}$$\n",
    "\n",
    "(a) Calcule a aproximação via Regra dos Trapézios\n",
    "\n",
    "(b) Para n = 5, calcule a aproximação via Regra dos Trapezios Repetida.\n",
    "\n",
    "(c) Qual é o prolema em tentar calcular esta integral?\n",
    "\n",
    "(d) O que acontece com o erro na aproximação?"
   ]
  },
  {
   "cell_type": "code",
   "execution_count": 7,
   "metadata": {},
   "outputs": [],
   "source": [
    "def F(x):  # =arctan(x)\n",
    "    return 1/((x-1)**2)\n",
    "\n",
    "\n",
    "def F_deri(x):\n",
    "    return 1/2*np.log(x**2+1)"
   ]
  },
  {
   "cell_type": "code",
   "execution_count": 8,
   "metadata": {},
   "outputs": [
    {
     "ename": "ZeroDivisionError",
     "evalue": "float division by zero",
     "output_type": "error",
     "traceback": [
      "\u001b[1;31m---------------------------------------------------------------------------\u001b[0m",
      "\u001b[1;31mZeroDivisionError\u001b[0m                         Traceback (most recent call last)",
      "\u001b[1;32m<ipython-input-8-bb3707555c29>\u001b[0m in \u001b[0;36m<module>\u001b[1;34m\u001b[0m\n\u001b[0;32m      1\u001b[0m \u001b[1;31m# Questão_2_itemA\u001b[0m\u001b[1;33m\u001b[0m\u001b[1;33m\u001b[0m\u001b[1;33m\u001b[0m\u001b[0m\n\u001b[0;32m      2\u001b[0m print('Área da Função 5: {:.5f}.\\n\\tErro da regra dos trapézios: {:.3e}'.\n\u001b[1;32m----> 3\u001b[1;33m       format(int_trapezios(F, 0, 2, 2), erro_trapezios(F_deri, 0, 2, 2)))\n\u001b[0m\u001b[0;32m      4\u001b[0m print('\\tComprando valor real com o encontrado: {:e}'.format(abs(\n\u001b[0;32m      5\u001b[0m     int_trapezios(F, 0, 2, 2)-np.arctan(2))))\n",
      "\u001b[1;32m<ipython-input-2-9583b4e22b9c>\u001b[0m in \u001b[0;36mint_trapezios\u001b[1;34m(F, a, b, n)\u001b[0m\n\u001b[0;32m      7\u001b[0m     \u001b[0mintegral\u001b[0m \u001b[1;33m=\u001b[0m \u001b[1;36m0.5\u001b[0m\u001b[1;33m*\u001b[0m\u001b[0mF\u001b[0m\u001b[1;33m(\u001b[0m\u001b[0ma\u001b[0m\u001b[1;33m)\u001b[0m \u001b[1;33m+\u001b[0m \u001b[1;36m0.5\u001b[0m\u001b[1;33m*\u001b[0m\u001b[0mF\u001b[0m\u001b[1;33m(\u001b[0m\u001b[0mb\u001b[0m\u001b[1;33m)\u001b[0m\u001b[1;33m\u001b[0m\u001b[1;33m\u001b[0m\u001b[0m\n\u001b[0;32m      8\u001b[0m     \u001b[1;32mfor\u001b[0m \u001b[0mi\u001b[0m \u001b[1;32min\u001b[0m \u001b[0mrange\u001b[0m\u001b[1;33m(\u001b[0m\u001b[1;36m1\u001b[0m\u001b[1;33m,\u001b[0m \u001b[0mn\u001b[0m\u001b[1;33m)\u001b[0m\u001b[1;33m:\u001b[0m\u001b[1;33m\u001b[0m\u001b[1;33m\u001b[0m\u001b[0m\n\u001b[1;32m----> 9\u001b[1;33m         \u001b[0mintegral\u001b[0m \u001b[1;33m+=\u001b[0m \u001b[0mF\u001b[0m\u001b[1;33m(\u001b[0m\u001b[0ma\u001b[0m \u001b[1;33m+\u001b[0m \u001b[0mi\u001b[0m\u001b[1;33m*\u001b[0m\u001b[0mh\u001b[0m\u001b[1;33m)\u001b[0m\u001b[1;33m\u001b[0m\u001b[1;33m\u001b[0m\u001b[0m\n\u001b[0m\u001b[0;32m     10\u001b[0m     \u001b[1;32mreturn\u001b[0m \u001b[0mintegral\u001b[0m\u001b[1;33m*\u001b[0m\u001b[0mh\u001b[0m\u001b[1;33m\u001b[0m\u001b[1;33m\u001b[0m\u001b[0m\n\u001b[0;32m     11\u001b[0m \u001b[1;33m\u001b[0m\u001b[0m\n",
      "\u001b[1;32m<ipython-input-7-4245d5a75d7b>\u001b[0m in \u001b[0;36mF\u001b[1;34m(x)\u001b[0m\n\u001b[0;32m      1\u001b[0m \u001b[1;32mdef\u001b[0m \u001b[0mF\u001b[0m\u001b[1;33m(\u001b[0m\u001b[0mx\u001b[0m\u001b[1;33m)\u001b[0m\u001b[1;33m:\u001b[0m  \u001b[1;31m# =arctan(x)\u001b[0m\u001b[1;33m\u001b[0m\u001b[1;33m\u001b[0m\u001b[0m\n\u001b[1;32m----> 2\u001b[1;33m     \u001b[1;32mreturn\u001b[0m \u001b[1;36m1\u001b[0m\u001b[1;33m/\u001b[0m\u001b[1;33m(\u001b[0m\u001b[1;33m(\u001b[0m\u001b[0mx\u001b[0m\u001b[1;33m-\u001b[0m\u001b[1;36m1\u001b[0m\u001b[1;33m)\u001b[0m\u001b[1;33m**\u001b[0m\u001b[1;36m2\u001b[0m\u001b[1;33m)\u001b[0m\u001b[1;33m\u001b[0m\u001b[1;33m\u001b[0m\u001b[0m\n\u001b[0m\u001b[0;32m      3\u001b[0m \u001b[1;33m\u001b[0m\u001b[0m\n\u001b[0;32m      4\u001b[0m \u001b[1;33m\u001b[0m\u001b[0m\n\u001b[0;32m      5\u001b[0m \u001b[1;32mdef\u001b[0m \u001b[0mF_deri\u001b[0m\u001b[1;33m(\u001b[0m\u001b[0mx\u001b[0m\u001b[1;33m)\u001b[0m\u001b[1;33m:\u001b[0m\u001b[1;33m\u001b[0m\u001b[1;33m\u001b[0m\u001b[0m\n",
      "\u001b[1;31mZeroDivisionError\u001b[0m: float division by zero"
     ]
    }
   ],
   "source": [
    "# Questão_2_itemA\n",
    "print('Área da Função 5: {:.5f}.\\n\\tErro da regra dos trapézios: {:.3e}'.\n",
    "      format(int_trapezios(F, 0, 2, 2), erro_trapezios(F_deri, 0, 2, 2)))\n",
    "print('\\tComprando valor real com o encontrado: {:e}'.format(abs(\n",
    "    int_trapezios(F, 0, 2, 2)-np.arctan(2))))"
   ]
  },
  {
   "cell_type": "markdown",
   "metadata": {},
   "source": [
    "Não foi possível calcular utilizando apenas a regra dos trapezios $(n = 2)$, quando chegar em $F(1)$ teremos divisão por zero, conforme exibido."
   ]
  },
  {
   "cell_type": "code",
   "execution_count": 9,
   "metadata": {},
   "outputs": [
    {
     "name": "stdout",
     "output_type": "stream",
     "text": [
      "Área da Função 3: 22.62222.\n",
      "\tErro da regra dos trapézios: -9.242e-03\n",
      "\tComprando valor real com o encontrado: 2.151507e+01\n"
     ]
    }
   ],
   "source": [
    "# Questão_2_itemB\n",
    "print('Área da Função 3: {:.5f}.\\n\\tErro da regra dos trapézios: {:.3e}'.\n",
    "      format(int_trapezios(F, 0, 2, 5), erro_trapezios(F_deri, 0, 2, 5)))\n",
    "print('\\tComprando valor real com o encontrado: {:e}'.format(abs(\n",
    "    int_trapezios(F, 0, 2, 5)-np.arctan(2))))"
   ]
  },
  {
   "cell_type": "code",
   "execution_count": 10,
   "metadata": {},
   "outputs": [
    {
     "data": {
      "image/png": "[encoded data removed]",
      "text/plain": [
       "<Figure size 432x288 with 1 Axes>"
      ]
     },
     "metadata": {
      "needs_background": "light"
     },
     "output_type": "display_data"
    }
   ],
   "source": [
    "x = np.linspace(0, 2, 50)\n",
    "plt.plot(x, F(x),label='F(x)')\n",
    "#plt.plot(.999,F(.999),'o',label='não continuidade')\n",
    "plt.grid(); plt.legend(); \n",
    "plt.xlabel('x'); plt.ylabel('y')\n",
    "plt.show()"
   ]
  },
  {
   "cell_type": "markdown",
   "metadata": {},
   "source": [
    "Como pode ser visto no gráfico, esse salto de um pequeno intervalo menor do que 1 para maior que 1 representa a não continuidade no ponto $x = 1$. Outra forma é removendo o comentário e colocando um valor proximo de 1 nas casas decimais, ex: $\\left(1-\\frac{1}{1000}\\right)$."
   ]
  },
  {
   "cell_type": "markdown",
   "metadata": {},
   "source": [
    "<hr>\n",
    "<b>3.</b> Considerando os métodos de integração repetida, determine $n$ de modo que a integral:\n",
    "$$\\int_{0}^{\\pi}sin(x)dx.\\tag{2} $$\n",
    "seja aproximada com erro menor que $10^{-4}$ para a:\n",
    "\n",
    "(a) Regra dos Trapézios Repetida\n",
    "\n",
    "(b) Regra de Simpson Repetida"
   ]
  },
  {
   "cell_type": "markdown",
   "metadata": {},
   "source": [
    "Integrando a função 2 temos: \n",
    "$$\n",
    "\\int_{0}^{\\pi}sin(x)dx = \\left[-cos(x)\\right]_{0}^{\\pi} = 2 \\tag{3}\n",
    "$$"
   ]
  },
  {
   "cell_type": "code",
   "execution_count": 11,
   "metadata": {},
   "outputs": [],
   "source": [
    "def F(x):\n",
    "    return np.sin(x)"
   ]
  },
  {
   "cell_type": "code",
   "execution_count": 12,
   "metadata": {},
   "outputs": [
    {
     "name": "stdout",
     "output_type": "stream",
     "text": [
      "Mínimo para o erro ser 10^(-4) = 129\n"
     ]
    }
   ],
   "source": [
    "# Q3_item_A\n",
    "for i in range(1, 1000):\n",
    "    if (abs(2 - int_trapezios(F, 0, np.pi, i)) < 1e-4):\n",
    "        print('Mínimo para o erro ser 10^(-4) = {:}'.format(i))\n",
    "        break"
   ]
  },
  {
   "cell_type": "code",
   "execution_count": 13,
   "metadata": {},
   "outputs": [
    {
     "name": "stdout",
     "output_type": "stream",
     "text": [
      "Mínimo para o erro ser 10^(-4) = 12\n"
     ]
    }
   ],
   "source": [
    "# Q3_item_B\n",
    "for i in range(1, 1000):\n",
    "    if (abs(2 - int_simpson(F, 0, np.pi, i)) < 1e-4):\n",
    "        print('Mínimo para o erro ser 10^(-4) = {}'.format(i))\n",
    "        break"
   ]
  }
 ],
 "metadata": {
  "authors": [
   {
    "name": ""
   }
  ],
  "kernelspec": {
   "display_name": "Python 3",
   "language": "python",
   "name": "python3"
  },
  "language_info": {
   "codemirror_mode": {
    "name": "ipython",
    "version": 3
   },
   "file_extension": ".py",
   "mimetype": "text/x-python",
   "name": "python",
   "nbconvert_exporter": "python",
   "pygments_lexer": "ipython3",
   "version": "3.8.5"
  },
  "latex_envs": {
   "LaTeX_envs_menu_present": true,
   "autoclose": false,
   "autocomplete": true,
   "bibliofile": "biblio.bib",
   "cite_by": "apalike",
   "current_citInitial": 1,
   "eqLabelWithNumbers": true,
   "eqNumInitial": 1,
   "hotkeys": {
    "equation": "Ctrl-E",
    "itemize": "Ctrl-I"
   },
   "labels_anchors": false,
   "latex_user_defs": false,
   "report_style_numbering": false,
   "user_envs_cfg": false
  },
  "title": ""
 },
 "nbformat": 4,
 "nbformat_minor": 4
}
