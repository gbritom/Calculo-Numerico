{
 "cells": [
  {
   "cell_type": "markdown",
   "metadata": {},
   "source": [
    "<center><h1>Cálculo Numérico</h1>\n",
    "    <h2>Lista de Exercícios 05 - Interpolação Polinomial</h2>\n",
    "    <hr>\n",
    "        <p>Aluno: Gabriel Brito Melandes\n",
    "        <p>Curso: Ciência da Computação\n",
    "        <p>Matricula: 171057600079\n",
    "    </center>"
   ]
  },
  {
   "cell_type": "markdown",
   "metadata": {},
   "source": [
    "<h3>Imports</h3>"
   ]
  },
  {
   "cell_type": "code",
   "execution_count": 1,
   "metadata": {},
   "outputs": [],
   "source": [
    "from __future__ import division\n",
    "import numpy as np\n",
    "from numpy import linalg\n",
    "import matplotlib.pyplot as plt"
   ]
  },
  {
   "cell_type": "markdown",
   "metadata": {},
   "source": [
    "<h3>Funções</h3>"
   ]
  },
  {
   "cell_type": "code",
   "execution_count": null,
   "metadata": {},
   "outputs": [],
   "source": []
  },
  {
   "cell_type": "markdown",
   "metadata": {},
   "source": [
    "<h3>Exercícios</h3><hr><b>1. [Burden]</b> <br> Para as funções $f(x)$ dadas, sejam $x_0 = 0$, $x_1 = 0.6$ e $x_2 = 0.9$. Construa polinômios interpoladores de grau no máximo um e no máximo dois para determinar uma aproximação de $f(0.45)$ e encontre o erro absoluto.\n",
    "\n",
    "(a) $f(x) = cos(x)$ \n",
    "\n",
    "(b) $f(x) = \\sqrt{1 + x}$ \n",
    "\n",
    "(c) $f(x) = ln(x + 1)$ \n",
    "\n",
    "(d) $f(x) = tan(x)$ "
   ]
  },
  {
   "cell_type": "code",
   "execution_count": null,
   "metadata": {},
   "outputs": [],
   "source": []
  },
  {
   "cell_type": "markdown",
   "metadata": {},
   "source": [
    "<hr><b>2. </b> <br>Dados extraídos do Painel Covid-19 DF da Secretaria de Estado de Saúde do DF$^1$\n",
    "mostram o número de casos de COVID-19 registrados nas datas abaixo\n",
    "\n",
    "![title](img/covid.png)\n",
    "\n",
    "Observe que não há dados sobre o dia 16/01.\n",
    "\n",
    "(a) Determine um polinômio interpolador, de grau máximo, que realize a interpolação dos dados acima e determine uma aproximação para a quantidade total de registros realizada no dia 16/01.\n",
    "\n",
    "(b) Qual e a diferença entre o valor registrado e aproximado?"
   ]
  },
  {
   "cell_type": "markdown",
   "metadata": {},
   "source": []
  },
  {
   "cell_type": "markdown",
   "metadata": {},
   "source": [
    "<hr><b>3. </b> <br>\n",
    "Suponha que você tenha que calcular a seguinte integral\n",
    "$$ \\int_{0}^{1} \\frac{\\sin(x^2)}{{x}} \\,dx $$\n",
    "mas não saiba como. Vamos aproximar o valor desta integral substituindo a função\n",
    "pelo polinômio interpolador.\n",
    "\n",
    "(a) Determine quatro pontos distintos, dentro do intervalo, e calcule o valor de $f(x)$\n",
    "nestes pontos.\n",
    "\n",
    "(b) Determine a equação do polinômio de grau 3 que interpola os dados gerados.\n",
    "\n",
    "(c) Substitua a função pelo polinômio determinado e calcule a integral.\n",
    "\n",
    "(d) Qual é o erro absoluto?"
   ]
  },
  {
   "cell_type": "code",
   "execution_count": null,
   "metadata": {},
   "outputs": [],
   "source": []
  }
 ],
 "metadata": {
  "kernelspec": {
   "display_name": "Python 3",
   "language": "python",
   "name": "python3"
  },
  "language_info": {
   "codemirror_mode": {
    "name": "ipython",
    "version": 3
   },
   "file_extension": ".py",
   "mimetype": "text/x-python",
   "name": "python",
   "nbconvert_exporter": "python",
   "pygments_lexer": "ipython3",
   "version": "3.8.5"
  }
 },
 "nbformat": 4,
 "nbformat_minor": 4
}
