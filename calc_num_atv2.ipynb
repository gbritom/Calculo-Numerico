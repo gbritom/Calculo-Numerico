{
 "cells": [
  {
   "cell_type": "markdown",
   "metadata": {},
   "source": [
    "<center><h1>Cálculo Numérico</h1>\n",
    "    <h2>Lista de Exercícios 02: Bisseção e Ponto Fixo</h2>\n",
    "    <hr>\n",
    "        <p>Aluno: Gabriel Brito Melandes\n",
    "        <p>Curso: Ciência da Computação\n",
    "        <p>Matricula: 171057600079\n",
    "    <hr>\n",
    "    </center>"
   ]
  },
  {
   "cell_type": "markdown",
   "metadata": {},
   "source": [
    "<h3>Imports</h3>"
   ]
  },
  {
   "cell_type": "code",
   "execution_count": 1,
   "metadata": {},
   "outputs": [],
   "source": [
    "import numpy as np\n",
    "import math\n",
    "import matplotlib.pyplot as plt\n",
    "from scipy import optimize"
   ]
  },
  {
   "cell_type": "code",
   "execution_count": 1,
   "metadata": {},
   "outputs": [],
   "source": [
    "header = ['k', 'ak', 'xk', 'bk', 'f(xk)', \"|bk-ak|\"]\n",
    "table = [] # tabela de preenchimento"
   ]
  },
  {
   "cell_type": "markdown",
   "metadata": {},
   "source": [
    "<h3> Funções </h3>"
   ]
  },
  {
   "cell_type": "code",
   "execution_count": 2,
   "metadata": {},
   "outputs": [],
   "source": [
    "def biss(f, a, b, TOL, N):\n",
    "    i = 1\n",
    "    fa = f(a)\n",
    "    while (i <= N):\n",
    "        # iteracao da bissecao\n",
    "        p = a + (b-a)/2\n",
    "        fp = f(p)\n",
    "        # condicao de parada\n",
    "        if ((fp == 0) or (np.abs((b-a)/2) < TOL)):\n",
    "            return p\n",
    "        # bissecta o intervalo\n",
    "        i = i+1\n",
    "        if (fa * fp > 0):\n",
    "            a = p\n",
    "            fa = fp\n",
    "        else:\n",
    "            b = p"
   ]
  },
  {
   "cell_type": "markdown",
   "metadata": {},
   "source": [
    "<h3>Exercícios</h3><hr><b>3.2.1.</b> <br>\n",
    "Considere a equação $\\sqrt x = cos(x)$. Use o método da bisseção com\n",
    "intervalo inicial [a, b] = [0, 1] e $x^{(1)}$ = ${a + b}\\over{2}$ para calcular a aproximação $x^{(4)}$\n",
    "da solução desta equação."
   ]
  },
  {
   "cell_type": "code",
   "execution_count": 3,
   "metadata": {},
   "outputs": [
    {
     "name": "stdout",
     "output_type": "stream",
     "text": [
      "0.6875\n"
     ]
    }
   ],
   "source": [
    "def a(x):\n",
    "    return math.cos(x)**2 - x\n",
    "print(biss(a, 0, 1, 1e-1, 4))"
   ]
  },
  {
   "cell_type": "markdown",
   "metadata": {},
   "source": [
    "<hr><b>3.2.2.</b> <br>\n",
    "Trace o gráfico e isole as três primeiras raízes positivas da função:\n",
    "$$f(x) = 5sen(x^2)-exp\\left  ( x\\over10 \\right )$$\n",
    "em intervalos de comprimento 0,1. Então, use o método da bisseção para obter\n",
    "aproximações dos zeros desta função com precisão de $10^{−5}$."
   ]
  },
  {
   "cell_type": "code",
   "execution_count": 4,
   "metadata": {},
   "outputs": [
    {
     "name": "stdout",
     "output_type": "stream",
     "text": [
      "Intervalo [ 0 : 1 ] = 0.45931\n",
      "Intervalo [ 1 : 2 ] = 1.70358\n",
      "Intervalo [ 2 : 3 ] = 2.55822\n",
      "Intervalo [ 3 : 4 ] = 3.02502\n"
     ]
    }
   ],
   "source": [
    "def b(x):\n",
    "    return (5*np.sin(x**2)-np.exp(x/10))\n",
    "roots=[]\n",
    "for i in range(0, 4):\n",
    "    print('Intervalo','[',i,':',i+1,'] =',round(biss(b, i, i+1, 1e-5, 20),5))\n",
    "    roots.append(biss(b, i, i+1, 1e-5, 20))"
   ]
  },
  {
   "cell_type": "markdown",
   "metadata": {},
   "source": [
    "Gráfico"
   ]
  },
  {
   "cell_type": "code",
   "execution_count": 5,
   "metadata": {},
   "outputs": [
    {
     "data": {
      "image/png": "[encoded data removed]",
      "text/plain": [
       "<Figure size 432x288 with 1 Axes>"
      ]
     },
     "metadata": {
      "needs_background": "light"
     },
     "output_type": "display_data"
    }
   ],
   "source": [
    "x = np.linspace(0,4,100)\n",
    "y = 5*np.sin(x**2)-np.exp(x/10)\n",
    "\n",
    "plt.xlabel('x')\n",
    "plt.ylabel('f (x)')\n",
    "plt.plot(x,y)\n",
    "plt.axhline(0, color='gray')\n",
    "for i in range (0, 4):\n",
    "    plt.plot(roots[i], 0, 'go')\n",
    "\n",
    "plt.show()"
   ]
  },
  {
   "cell_type": "markdown",
   "metadata": {},
   "source": [
    "<hr><b>3.2.3.</b> <br>\n",
    "O polinômio $p(x) = −4+8x−5x^2+x^3$ tem raízes $x_1 = 1$ e $x_2 = x_3 = 2$ no intervalo [1/2, 3]."
   ]
  },
  {
   "cell_type": "code",
   "execution_count": 6,
   "metadata": {},
   "outputs": [],
   "source": [
    "def p(x):\n",
    "    return (-4+8*x-5*x**2+x**3)"
   ]
  },
  {
   "cell_type": "markdown",
   "metadata": {},
   "source": [
    "a) Se o método da bisseção for usando com o intervalo inicial [1/2, 3], para qual raiz as iterações convergem?"
   ]
  },
  {
   "cell_type": "code",
   "execution_count": 7,
   "metadata": {},
   "outputs": [
    {
     "name": "stdout",
     "output_type": "stream",
     "text": [
      "0.9999542236328125 Converge para 1.0\n"
     ]
    }
   ],
   "source": [
    "print(biss(p, 1/2, 3, 1e-4, 30),'Converge para',round(biss(p, 1/2, 3, 1e-4, 30),3))"
   ]
  },
  {
   "cell_type": "markdown",
   "metadata": {},
   "source": [
    "b) É possível usar o método da bisseção para a raiz x = 2? Justifique sua\n",
    "resposta."
   ]
  },
  {
   "cell_type": "markdown",
   "metadata": {},
   "source": [
    "Seria encontrado apenas uma raiz, pois se $x_2 = x_3 = 2$, ao utilizar do método da bisseção temos que $x_k$ tende a 2, Outra forma é visualizando o gráfico da função plotado abaixo."
   ]
  },
  {
   "cell_type": "code",
   "execution_count": 8,
   "metadata": {},
   "outputs": [
    {
     "data": {
      "image/png": "[encoded data removed]",
      "text/plain": [
       "<Figure size 432x288 with 1 Axes>"
      ]
     },
     "metadata": {
      "needs_background": "light"
     },
     "output_type": "display_data"
    }
   ],
   "source": [
    "x = np.linspace(1/2,3,100)\n",
    "y = (-4+8*x-5*x**2+x**3)\n",
    "\n",
    "plt.xlabel('x')\n",
    "plt.ylabel('f (x)')\n",
    "plt.plot(x,y)\n",
    "plt.axhline(0, color='gray')\n",
    "\n",
    "plt.show()"
   ]
  },
  {
   "cell_type": "markdown",
   "metadata": {},
   "source": [
    "<hr><b>3.2.4.</b> <br>\n",
    "O polinômio $f(x) = x^4 − 4x^2 + 4$ possui raízes duplas em $\\sqrt2$ e $−\n",
    "\\sqrt2$.\n",
    "O método da bisseção pode ser aplicado a $f$? Explique"
   ]
  },
  {
   "cell_type": "markdown",
   "metadata": {},
   "source": [
    "Não é possível, aconteceria que $f(x_k)$ >= 0, nunca trocaria de sinal, o que implicaria em aproximar o valor de $x_k$ para $b$, conforme  é visto abaixo:"
   ]
  },
  {
   "cell_type": "code",
   "execution_count": 9,
   "metadata": {},
   "outputs": [
    {
     "name": "stdout",
     "output_type": "stream",
     "text": [
      "-1.00006103515625\n",
      "1.49993896484375\n"
     ]
    }
   ],
   "source": [
    "def c(x):\n",
    "    return (x**4-4*x**2+4)\n",
    "\n",
    "print(biss(c, -1.5, -1, 1e-4, 30))\n",
    "\n",
    "print(biss(c, 1, 1.5, 1e-4, 30))"
   ]
  },
  {
   "cell_type": "markdown",
   "metadata": {},
   "source": [
    "<hr><b>Seção 3.3\n",
    "<br>3.3.1</b>\n",
    "Resolver a equação $e^x = x + 2$ é equivalente a calcular os pontos\n",
    "fixos da função $g(x) = e^x − 2$ (veja o Exemplo 3.3.1). Use a iteração do ponto fixo $x^{n+1} = g(x^n)$ com $x^{(1)} = −1,8$ para obter uma aproximação de uma das soluções da equação dada com 8 dígitos significativos."
   ]
  },
  {
   "cell_type": "code",
   "execution_count": 10,
   "metadata": {},
   "outputs": [],
   "source": [
    "def f(x):\n",
    "    return np.exp(x)-2"
   ]
  },
  {
   "cell_type": "code",
   "execution_count": 11,
   "metadata": {},
   "outputs": [
    {
     "data": {
      "text/plain": [
       "-1.8414057"
      ]
     },
     "execution_count": 11,
     "metadata": {},
     "output_type": "execute_result"
    }
   ],
   "source": [
    "n = 20\n",
    "\n",
    "erro = []\n",
    "\n",
    "x = np.zeros(n)\n",
    "\n",
    "x[0] = -1.8  # valor inicial de x\n",
    "\n",
    "for i in range(1, n):\n",
    "    x[i] = f(x[i-1])\n",
    "    erro.append(abs(x[i]-x[i-1]))\n",
    "    \n",
    "round(x[n-1],7)"
   ]
  },
  {
   "cell_type": "markdown",
   "metadata": {},
   "source": [
    "<hr><b>3.3.2.</b> <br>\n",
    "Mostre que a equação:\n",
    "$$cos(x) = x $$\n",
    "possui uma única solução no intervalo [0, 1]. Use a iteração do ponto fixo e encontre uma aproximação para esta solução com 4 dígitos significativos."
   ]
  },
  {
   "cell_type": "code",
   "execution_count": 12,
   "metadata": {},
   "outputs": [],
   "source": [
    "def f(x):\n",
    "    return x-np.cos(x)\n",
    "\n",
    "def f1(x):\n",
    "    return np.sin(x)+1"
   ]
  },
  {
   "cell_type": "code",
   "execution_count": 13,
   "metadata": {},
   "outputs": [
    {
     "data": {
      "text/plain": [
       "0.7391"
      ]
     },
     "execution_count": 13,
     "metadata": {},
     "output_type": "execute_result"
    }
   ],
   "source": [
    "x = np.zeros(n)\n",
    "\n",
    "x[0] = 0 \n",
    "\n",
    "for i in range(1, n):\n",
    "    x[i] = x[i-1]-f(x[i-1])/f1(x[i-1])\n",
    "    \n",
    "round(x[n-1],4)"
   ]
  },
  {
   "cell_type": "markdown",
   "metadata": {},
   "source": [
    "<hr><b>3.3.3.</b> <br>\n",
    "Mostre que a equação $xe^x = 10$ é equivalente às seguintes equações:\n",
    "$$x = ln \\left (\n",
    "\\frac{10}{x}\\right ) e \\space x = 10e^{-x}.$$\n",
    "Destas, considere as seguintes iterações de ponto fixo:\n",
    "\n",
    "a) $x^{n+1} = ln \\left ( 10 \\over {x^{(n)}} \\right )$\n",
    "\n",
    "b) $x^{n+1} = 10e^{−x^{(n)}}$\n",
    "\n",
    "Tomando $x^{(1)} = 1$, verifique se estas sequências são convergentes."
   ]
  },
  {
   "cell_type": "code",
   "execution_count": 14,
   "metadata": {},
   "outputs": [],
   "source": [
    "def f(x):\n",
    "    return np.log(10/x)"
   ]
  },
  {
   "cell_type": "code",
   "execution_count": 15,
   "metadata": {},
   "outputs": [
    {
     "name": "stdout",
     "output_type": "stream",
     "text": [
      "x^(1) \t = 1.4685526477460897\n",
      "x^(2) \t = 1.651141665065961\n",
      "x^(3) \t = 1.714177439764644\n",
      "x^(4) \t = 1.735198573043341\n",
      "x^(5) \t = 1.7421335202398134\n",
      "x^(6) \t = 1.744413450287821\n",
      "x^(7) \t = 1.7451621501671417\n",
      "x^(8) \t = 1.7454079223990204\n",
      "x^(9) \t = 1.7454885910873088\n",
      "x^(10) \t = 1.7455150675418922\n",
      "x^(11) \t = 1.7455237573256561\n",
      "x^(12) \t = 1.7455266093697899\n",
      "x^(13) \t = 1.745527545428094\n",
      "x^(14) \t = 1.7455278526480043\n",
      "x^(15) \t = 1.7455279534793933\n"
     ]
    },
    {
     "data": {
      "text/plain": [
       "1.745528"
      ]
     },
     "execution_count": 15,
     "metadata": {},
     "output_type": "execute_result"
    }
   ],
   "source": [
    "n = 40\n",
    "x = np.zeros(n)\n",
    "\n",
    "x[0] = 1 \n",
    "\n",
    "for i in range(1, n):\n",
    "    x[i] = np.log(10/f(x[i-1]))\n",
    "    if i <= 15:\n",
    "        print('x^({:.0f}) \\t = {:}'.format(i, x[i]))\n",
    "    \n",
    "round(x[n-1], 6)"
   ]
  },
  {
   "cell_type": "markdown",
   "metadata": {},
   "source": [
    "Portanto, esta é convergente."
   ]
  },
  {
   "cell_type": "code",
   "execution_count": 16,
   "metadata": {},
   "outputs": [],
   "source": [
    "def f(x):\n",
    "    return 10*np.exp(-x)"
   ]
  },
  {
   "cell_type": "code",
   "execution_count": 17,
   "metadata": {},
   "outputs": [
    {
     "name": "stdout",
     "output_type": "stream",
     "text": [
      "x^(1) \t= 10e^1.0000000\t = 3.6787944117144233\n",
      "x^(2) \t= 10e^3.6787944\t = 0.2525340169566391\n",
      "x^(3) \t= 10e^0.2525340\t = 7.768297870046722\n",
      "x^(4) \t= 10e^7.7682979\t = 0.004229325406322772\n",
      "x^(5) \t= 10e^0.0042293\t = 9.957796055952333\n",
      "x^(6) \t= 10e^9.9577961\t = 0.00047356993277065284\n",
      "x^(7) \t= 10e^0.0004736\t = 9.99526542183771\n",
      "x^(8) \t= 10e^9.9952654\t = 0.000456153889301612\n",
      "x^(9) \t= 10e^0.0004562\t = 9.995439501330663\n",
      "x^(10) \t= 10e^9.9954395\t = 0.0004560744891750208\n",
      "x^(11) \t= 10e^0.0004561\t = 9.995440294969857\n",
      "x^(12) \t= 10e^9.9954403\t = 0.0004560741272165747\n",
      "x^(13) \t= 10e^0.0004561\t = 9.995440298587791\n",
      "x^(14) \t= 10e^9.9954403\t = 0.0004560741255665284\n",
      "x^(15) \t= 10e^0.0004561\t = 9.995440298604285\n"
     ]
    }
   ],
   "source": [
    "x = np.zeros(n)\n",
    "x[0] = 1\n",
    "\n",
    "for i in range(1, n):\n",
    "    x[i] = f(x[i-1])\n",
    "    if i <= 15:\n",
    "        print('x^({:.0f}) \\t= 10e^{:.7f}\\t = {:}'.format(i, x[i-1], x[i]))"
   ]
  },
  {
   "cell_type": "markdown",
   "metadata": {},
   "source": [
    "Portanto, esta não é convergente."
   ]
  },
  {
   "cell_type": "markdown",
   "metadata": {},
   "source": [
    "<hr><b>3.3.4.</b> <br>\n",
    "Verifique (analiticamente) que a única solução real da equação:\n",
    "$$xe^x = 10$$\n",
    "é ponto fixo das seguintes funções:\n",
    "\n",
    "a) $g(x) = ln \\left (10 \\over x \\right)$\n",
    "\n",
    "b) $g(x) = x − \\frac {xe^x−10}{15}$\n",
    "\n",
    "c) $g(x) = x − \\frac {xe^x−10}{10+e^x}$\n",
    "\n",
    "Implemente o processo iterativo $x^{(n+1)} = g(x^n))$ para $n \\gt 0$ e compare o comportamento. Discuta os resultados com base na teoria estudada."
   ]
  },
  {
   "cell_type": "code",
   "execution_count": 18,
   "metadata": {},
   "outputs": [],
   "source": [
    "def f(x):\n",
    "    return 10-(x*np.exp(x))"
   ]
  },
  {
   "cell_type": "code",
   "execution_count": 19,
   "metadata": {},
   "outputs": [
    {
     "name": "stdout",
     "output_type": "stream",
     "text": [
      "x^(1) \t= 1.0\n",
      "x^(2) \t= 2.302585092994046\n",
      "x^(3) \t= 1.4685526477460897\n",
      "x^(4) \t= 1.9183077706038578\n",
      "x^(5) \t= 1.651141665065961\n",
      "x^(6) \t= 1.8011181261248133\n",
      "x^(7) \t= 1.714177439764644\n",
      "x^(8) \t= 1.763651754393335\n",
      "x^(9) \t= 1.735198573043341\n",
      "x^(10) \t= 1.7514632348224655\n",
      "x^(11) \t= 1.7421335202398134\n",
      "x^(12) \t= 1.7474745698317786\n",
      "x^(13) \t= 1.744413450287821\n",
      "x^(14) \t= 1.7461667254847746\n",
      "x^(15) \t= 1.7451621501671417\n"
     ]
    },
    {
     "data": {
      "text/plain": [
       "1.7455280030681641"
      ]
     },
     "execution_count": 19,
     "metadata": {},
     "output_type": "execute_result"
    }
   ],
   "source": [
    "def g(x):\n",
    "    return np.log(10/x)\n",
    "x = np.zeros(n)\n",
    "x[0] = 1\n",
    "\n",
    "for i in range(1, n):\n",
    "    x[i] = g(x[i-1])\n",
    "    if i <= 15:\n",
    "        print('x^({:.0f}) \\t= {:}'.format(i, x[i-1], x[i]))\n",
    "    \n",
    "round(x[n-1],16)"
   ]
  },
  {
   "cell_type": "code",
   "execution_count": 20,
   "metadata": {},
   "outputs": [
    {
     "name": "stdout",
     "output_type": "stream",
     "text": [
      "x^(1) \t= 1.0\n",
      "x^(2) \t= 1.4854478781027303\n",
      "x^(3) \t= 1.7147052823160156\n",
      "x^(4) \t= 1.7463550703899742\n",
      "x^(5) \t= 1.74548732191791\n",
      "x^(6) \t= 1.745529978443129\n",
      "x^(7) \t= 1.7455279067285734\n",
      "x^(8) \t= 1.7455280074064057\n",
      "x^(9) \t= 1.7455280025139692\n",
      "x^(10) \t= 1.7455280027517175\n",
      "x^(11) \t= 1.7455280027401638\n",
      "x^(12) \t= 1.7455280027407254\n",
      "x^(13) \t= 1.745528002740698\n",
      "x^(14) \t= 1.7455280027406994\n",
      "x^(15) \t= 1.7455280027406992\n"
     ]
    },
    {
     "data": {
      "text/plain": [
       "1.7455280027406994"
      ]
     },
     "execution_count": 20,
     "metadata": {},
     "output_type": "execute_result"
    }
   ],
   "source": [
    "def g(x):\n",
    "    return x-(x*np.exp(x)-10)/15\n",
    "x = np.zeros(n)\n",
    "x[0] = 1\n",
    "\n",
    "for i in range(1, n):\n",
    "    x[i] = g(x[i-1])\n",
    "    if i <= 15:\n",
    "        print('x^({:.0f}) \\t= {:}'.format(i, x[i-1], x[i]))\n",
    "        \n",
    "round(x[n-1],16)"
   ]
  },
  {
   "cell_type": "code",
   "execution_count": 21,
   "metadata": {},
   "outputs": [
    {
     "name": "stdout",
     "output_type": "stream",
     "text": [
      "x^(1) \t= 1.0\n",
      "x^(2) \t= 1.4854478781027303\n",
      "x^(3) \t= 1.7147052823160156\n",
      "x^(4) \t= 1.7463550703899742\n",
      "x^(5) \t= 1.74548732191791\n",
      "x^(6) \t= 1.745529978443129\n",
      "x^(7) \t= 1.7455279067285734\n",
      "x^(8) \t= 1.7455280074064057\n",
      "x^(9) \t= 1.7455280025139692\n",
      "x^(10) \t= 1.7455280027517175\n",
      "x^(11) \t= 1.7455280027401638\n",
      "x^(12) \t= 1.7455280027407254\n",
      "x^(13) \t= 1.745528002740698\n",
      "x^(14) \t= 1.7455280027406994\n",
      "x^(15) \t= 1.7455280027406992\n"
     ]
    },
    {
     "data": {
      "text/plain": [
       "1.7455280027406994"
      ]
     },
     "execution_count": 21,
     "metadata": {},
     "output_type": "execute_result"
    }
   ],
   "source": [
    "def h(x):\n",
    "    return x-(x*np.exp(x)-10)/(10+np.exp(x))\n",
    "\n",
    "x = np.zeros(n)\n",
    "x[0] = 1\n",
    "\n",
    "for i in range(1, n):\n",
    "    x[i] = g(x[i-1])\n",
    "    if i <= 15:\n",
    "        print('x^({:.0f}) \\t= {:}'.format(i, x[i-1], x[i]))\n",
    "        \n",
    "round(x[n-1], 16)"
   ]
  },
  {
   "cell_type": "markdown",
   "metadata": {},
   "source": [
    "Os valores mais precisos são o da segunda e terceira função pois se mantêm bem semelhantes entre si, além disso, ao se substituir os valorese obtidos em $f(x)$ podemos concluir que de fato estes são os mais próximos de 0 e mais adequados para se usar como raiz de $f$."
   ]
  },
  {
   "cell_type": "markdown",
   "metadata": {},
   "source": [
    "<hr><b>3.3.6.</b> </br>\n",
    "Encontre a solução de cada equação com erro absoluto inferior a $10^{−6}$.\n",
    "\n",
    "a) $e^x = x + 2$ no intervalo (−2,0).\n",
    "\n",
    "b) $x^3 + 5x^2 − 12 = 0$ no intervalo (1,2).\n",
    "\n",
    "c) $\\sqrt x = cos(x)$ no intervalo (0,1)."
   ]
  },
  {
   "cell_type": "code",
   "execution_count": 22,
   "metadata": {},
   "outputs": [
    {
     "name": "stdout",
     "output_type": "stream",
     "text": [
      "Encontrado: -1.8414057183297619\n"
     ]
    }
   ],
   "source": [
    "#a) Idêntico à 3.3.1\n",
    "def f(x):\n",
    "    return np.exp(x)-2\n",
    "\n",
    "x = np.zeros(n)\n",
    "x[0] = -2\n",
    "for i in range(1, n):\n",
    "    x[i] = f(x[i-1])\n",
    "    erro = (abs(x[i]-x[i-1]))\n",
    "    if (erro < 1e-6):\n",
    "        print(\"Encontrado:\",x[i])\n",
    "        break"
   ]
  },
  {
   "cell_type": "code",
   "execution_count": 23,
   "metadata": {},
   "outputs": [
    {
     "data": {
      "text/plain": [
       "-12"
      ]
     },
     "execution_count": 23,
     "metadata": {},
     "output_type": "execute_result"
    }
   ],
   "source": [
    "def f(x):\n",
    "    return (x**3)+(5*x**2)-12\n",
    "def f1(x):\n",
    "    return 3*x**2+10*x\n",
    "\n",
    "f(0)"
   ]
  },
  {
   "cell_type": "code",
   "execution_count": 24,
   "metadata": {},
   "outputs": [
    {
     "name": "stdout",
     "output_type": "stream",
     "text": [
      "Encontrado: 1.3722813232690143\n"
     ]
    },
    {
     "data": {
      "text/plain": [
       "-12.0"
      ]
     },
     "execution_count": 24,
     "metadata": {},
     "output_type": "execute_result"
    }
   ],
   "source": [
    "n = 40\n",
    "x = np.zeros(n)\n",
    "x[0] = 1.5\n",
    "\n",
    "for i in range(1, n):\n",
    "    x[i] = x[i-1]-f(x[i-1])/f1(x[i-1])\n",
    "    erro = abs(x[i]-x[i-1])\n",
    "    if (erro < 1e-6):\n",
    "        print(\"Encontrado:\",x[i])\n",
    "        break\n",
    "        \n",
    "f(x[n-1])"
   ]
  },
  {
   "cell_type": "markdown",
   "metadata": {},
   "source": [
    "$f(0) = f(1.3722813232690143) \\approx -12$."
   ]
  },
  {
   "cell_type": "code",
   "execution_count": 25,
   "metadata": {},
   "outputs": [
    {
     "name": "stdout",
     "output_type": "stream",
     "text": [
      "0.7390851\n"
     ]
    }
   ],
   "source": [
    "def f(x):\n",
    "    return x-np.cos(x)\n",
    "\n",
    "def f1(x):\n",
    "    return np.sin(x)+1\n",
    "x = np.zeros(n)\n",
    "\n",
    "x[0] = 0\n",
    "\n",
    "for i in range(1, n):\n",
    "    x[i] = x[i-1]-f(x[i-1])/f1(x[i-1])\n",
    "    erro = abs(x[i]-x[i-1])\n",
    "    if (erro < 1e-6):\n",
    "        print(round(x[i],7))\n",
    "        break"
   ]
  }
 ],
 "metadata": {
  "kernelspec": {
   "display_name": "Python 3",
   "language": "python",
   "name": "python3"
  },
  "language_info": {
   "codemirror_mode": {
    "name": "ipython",
    "version": 3
   },
   "file_extension": ".py",
   "mimetype": "text/x-python",
   "name": "python",
   "nbconvert_exporter": "python",
   "pygments_lexer": "ipython3",
   "version": "3.8.5"
  }
 },
 "nbformat": 4,
 "nbformat_minor": 4
}
